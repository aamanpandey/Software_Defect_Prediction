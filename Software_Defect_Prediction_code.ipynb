{
 "cells": [
  {
   "cell_type": "markdown",
   "metadata": {
    "colab_type": "text",
    "id": "nKZO6A8zVMJn"
   },
   "source": [
    "Software Defect Prediction Data\n",
    "\n",
    "Goal : Predict software defect\n",
    "\n",
    "Dataset: \n",
    "\n",
    "  - Number of instances: 10885\n",
    "\n",
    "  - Number of attributes: 22 \n",
    "\n",
    "  - Attribute Information:\n",
    "\n",
    "     1. loc             : numeric % McCabe's line count of code\n",
    "     2. v(g)            : numeric % McCabe \"cyclomatic complexity\"\n",
    "     3. ev(g)           : numeric % McCabe \"essential complexity\"\n",
    "     4. iv(g)           : numeric % McCabe \"design complexity\"\n",
    "     5. n               : numeric % Halstead total operators + operands\n",
    "     6. v               : numeric % Halstead \"volume\"\n",
    "     7. l               : numeric % Halstead \"program length\"\n",
    "     8. d               : numeric % Halstead \"difficulty\"\n",
    "     9. i               : numeric % Halstead \"intelligence\"\n",
    "     10. e               : numeric % Halstead \"effort\"\n",
    "     11. b               : numeric % Halstead \n",
    "     12. t               : numeric % Halstead's time estimator\n",
    "     13. lOCode          : numeric % Halstead's line count\n",
    "     14. lOComment       : numeric % Halstead's count of lines of comments\n",
    "     15. lOBlank         : numeric % Halstead's count of blank lines\n",
    "     16. lOCodeAndComment: numeric\n",
    "     17. uniq_Op         : numeric % unique operators\n",
    "     18. uniq_Opnd       : numeric % unique operands\n",
    "     19. total_Op        : numeric % total operators\n",
    "     20. total_Opnd      : numeric % total operands\n",
    "     21: branchCount     : numeric % of the flow graph\n",
    "     22. defects         : {false,true} reported defects\n",
    "\n",
    "  - Missing attributes: none\n",
    "\n",
    "  - Class Distribution: the class value (defects) is discrete \n",
    "    \n",
    "     False: 2106 = 19.35%\n",
    "     \n",
    "     True:  8779 = 80.65%\n",
    "\n",
    "- Evaluation Metric: ROC - AUC\n"
   ]
  },
  {
   "cell_type": "markdown",
   "metadata": {
    "colab_type": "text",
    "id": "AM1IIKfUVMJo"
   },
   "source": [
    "# Result"
   ]
  },
  {
   "cell_type": "markdown",
   "metadata": {
    "ExecuteTime": {
     "end_time": "2020-03-09T07:02:39.550710Z",
     "start_time": "2020-03-09T07:02:39.545197Z"
    },
    "colab_type": "text",
    "id": "eey2Gg03VMJo"
   },
   "source": [
    "- Best Model parameters:<br>\n",
    "    StackingClassifier(final estimator=<b>Logistic Regression</b>,{'final_estimator__C': 0.2, 'stack_method': 'auto'}) <br>\n",
    "   and the following 5 estimators:<br>\n",
    "    1. Logistic Regression {'C': 1, 'penalty': 'l2'}<br>\n",
    "    2. Random Forest {'criterion': 'gini', 'max_depth': 12, 'max_features': 'auto', 'n_estimators': 500}<br>\n",
    "    3. SVM {'C': 0.01, 'degree': 1, 'gamma': 1, 'kernel': 'poly'}<br>\n",
    "    4. ExtraTrees {'criterion': 'entropy', 'max_depth': 8, 'max_features': 'auto', 'n_estimators': 500}<br>\n",
    "    5. XGBoost {'learning_rate': 0.1, 'max_depth': 2, 'min_child_weight': 5, 'n_estimators': 150, 'subsample': 0.8}<br><br>\n",
    "    \n",
    "- Mean Cross validation score of Best model:<br>\n",
    "   0.856018\n",
    "- Train score of bestmodel:<br>\n",
    "   0.961326\n",
    "- Test score of best model:<br>\n",
    "   0.864968\n",
    "     \t"
   ]
  },
  {
   "cell_type": "markdown",
   "metadata": {
    "colab_type": "text",
    "id": "rTge74f7VMJp"
   },
   "source": [
    "# Data Preprocessing"
   ]
  },
  {
   "cell_type": "code",
   "execution_count": 1,
   "metadata": {
    "colab": {},
    "colab_type": "code",
    "id": "MJ5NchkvVMJp"
   },
   "outputs": [],
   "source": [
    "import numpy as np\n",
    "import matplotlib.pyplot as plt\n",
    "import pandas as pd\n",
    "import seaborn as sns\n",
    "%matplotlib inline\n",
    "import warnings\n",
    "warnings.filterwarnings(\"ignore\")\n",
    "from datetime import datetime"
   ]
  },
  {
   "cell_type": "code",
   "execution_count": 2,
   "metadata": {
    "ExecuteTime": {
     "end_time": "2020-03-09T07:31:08.392767Z",
     "start_time": "2020-03-09T07:31:08.370710Z"
    },
    "colab": {
     "base_uri": "https://localhost:8080/",
     "height": 224
    },
    "colab_type": "code",
    "id": "SZVkJ6xAVMJs",
    "outputId": "6673903f-f79f-489e-8ad1-4c254aa9989a"
   },
   "outputs": [
    {
     "data": {
      "text/html": [
       "<div>\n",
       "<style scoped>\n",
       "    .dataframe tbody tr th:only-of-type {\n",
       "        vertical-align: middle;\n",
       "    }\n",
       "\n",
       "    .dataframe tbody tr th {\n",
       "        vertical-align: top;\n",
       "    }\n",
       "\n",
       "    .dataframe thead th {\n",
       "        text-align: right;\n",
       "    }\n",
       "</style>\n",
       "<table border=\"1\" class=\"dataframe\">\n",
       "  <thead>\n",
       "    <tr style=\"text-align: right;\">\n",
       "      <th></th>\n",
       "      <th>loc</th>\n",
       "      <th>v(g)</th>\n",
       "      <th>ev(g)</th>\n",
       "      <th>iv(g)</th>\n",
       "      <th>n</th>\n",
       "      <th>v</th>\n",
       "      <th>l</th>\n",
       "      <th>d</th>\n",
       "      <th>i</th>\n",
       "      <th>e</th>\n",
       "      <th>...</th>\n",
       "      <th>lOCode</th>\n",
       "      <th>lOComment</th>\n",
       "      <th>lOBlank</th>\n",
       "      <th>locCodeAndComment</th>\n",
       "      <th>uniq_Op</th>\n",
       "      <th>uniq_Opnd</th>\n",
       "      <th>total_Op</th>\n",
       "      <th>total_Opnd</th>\n",
       "      <th>branchCount</th>\n",
       "      <th>defects</th>\n",
       "    </tr>\n",
       "  </thead>\n",
       "  <tbody>\n",
       "    <tr>\n",
       "      <td>0</td>\n",
       "      <td>1.1</td>\n",
       "      <td>1.4</td>\n",
       "      <td>1.4</td>\n",
       "      <td>1.4</td>\n",
       "      <td>1.3</td>\n",
       "      <td>1.30</td>\n",
       "      <td>1.30</td>\n",
       "      <td>1.30</td>\n",
       "      <td>1.30</td>\n",
       "      <td>1.30</td>\n",
       "      <td>...</td>\n",
       "      <td>2</td>\n",
       "      <td>2</td>\n",
       "      <td>2</td>\n",
       "      <td>2</td>\n",
       "      <td>1.2</td>\n",
       "      <td>1.2</td>\n",
       "      <td>1.2</td>\n",
       "      <td>1.2</td>\n",
       "      <td>1.4</td>\n",
       "      <td>False</td>\n",
       "    </tr>\n",
       "    <tr>\n",
       "      <td>1</td>\n",
       "      <td>1.0</td>\n",
       "      <td>1.0</td>\n",
       "      <td>1.0</td>\n",
       "      <td>1.0</td>\n",
       "      <td>1.0</td>\n",
       "      <td>1.00</td>\n",
       "      <td>1.00</td>\n",
       "      <td>1.00</td>\n",
       "      <td>1.00</td>\n",
       "      <td>1.00</td>\n",
       "      <td>...</td>\n",
       "      <td>1</td>\n",
       "      <td>1</td>\n",
       "      <td>1</td>\n",
       "      <td>1</td>\n",
       "      <td>1</td>\n",
       "      <td>1</td>\n",
       "      <td>1</td>\n",
       "      <td>1</td>\n",
       "      <td>1</td>\n",
       "      <td>True</td>\n",
       "    </tr>\n",
       "    <tr>\n",
       "      <td>2</td>\n",
       "      <td>72.0</td>\n",
       "      <td>7.0</td>\n",
       "      <td>1.0</td>\n",
       "      <td>6.0</td>\n",
       "      <td>198.0</td>\n",
       "      <td>1134.13</td>\n",
       "      <td>0.05</td>\n",
       "      <td>20.31</td>\n",
       "      <td>55.85</td>\n",
       "      <td>23029.10</td>\n",
       "      <td>...</td>\n",
       "      <td>51</td>\n",
       "      <td>10</td>\n",
       "      <td>8</td>\n",
       "      <td>1</td>\n",
       "      <td>17</td>\n",
       "      <td>36</td>\n",
       "      <td>112</td>\n",
       "      <td>86</td>\n",
       "      <td>13</td>\n",
       "      <td>True</td>\n",
       "    </tr>\n",
       "    <tr>\n",
       "      <td>3</td>\n",
       "      <td>190.0</td>\n",
       "      <td>3.0</td>\n",
       "      <td>1.0</td>\n",
       "      <td>3.0</td>\n",
       "      <td>600.0</td>\n",
       "      <td>4348.76</td>\n",
       "      <td>0.06</td>\n",
       "      <td>17.06</td>\n",
       "      <td>254.87</td>\n",
       "      <td>74202.67</td>\n",
       "      <td>...</td>\n",
       "      <td>129</td>\n",
       "      <td>29</td>\n",
       "      <td>28</td>\n",
       "      <td>2</td>\n",
       "      <td>17</td>\n",
       "      <td>135</td>\n",
       "      <td>329</td>\n",
       "      <td>271</td>\n",
       "      <td>5</td>\n",
       "      <td>True</td>\n",
       "    </tr>\n",
       "    <tr>\n",
       "      <td>4</td>\n",
       "      <td>37.0</td>\n",
       "      <td>4.0</td>\n",
       "      <td>1.0</td>\n",
       "      <td>4.0</td>\n",
       "      <td>126.0</td>\n",
       "      <td>599.12</td>\n",
       "      <td>0.06</td>\n",
       "      <td>17.19</td>\n",
       "      <td>34.86</td>\n",
       "      <td>10297.30</td>\n",
       "      <td>...</td>\n",
       "      <td>28</td>\n",
       "      <td>1</td>\n",
       "      <td>6</td>\n",
       "      <td>0</td>\n",
       "      <td>11</td>\n",
       "      <td>16</td>\n",
       "      <td>76</td>\n",
       "      <td>50</td>\n",
       "      <td>7</td>\n",
       "      <td>True</td>\n",
       "    </tr>\n",
       "  </tbody>\n",
       "</table>\n",
       "<p>5 rows × 22 columns</p>\n",
       "</div>"
      ],
      "text/plain": [
       "     loc  v(g)  ev(g)  iv(g)      n        v     l      d       i         e  \\\n",
       "0    1.1   1.4    1.4    1.4    1.3     1.30  1.30   1.30    1.30      1.30   \n",
       "1    1.0   1.0    1.0    1.0    1.0     1.00  1.00   1.00    1.00      1.00   \n",
       "2   72.0   7.0    1.0    6.0  198.0  1134.13  0.05  20.31   55.85  23029.10   \n",
       "3  190.0   3.0    1.0    3.0  600.0  4348.76  0.06  17.06  254.87  74202.67   \n",
       "4   37.0   4.0    1.0    4.0  126.0   599.12  0.06  17.19   34.86  10297.30   \n",
       "\n",
       "   ...  lOCode  lOComment  lOBlank  locCodeAndComment  uniq_Op  uniq_Opnd  \\\n",
       "0  ...       2          2        2                  2      1.2        1.2   \n",
       "1  ...       1          1        1                  1        1          1   \n",
       "2  ...      51         10        8                  1       17         36   \n",
       "3  ...     129         29       28                  2       17        135   \n",
       "4  ...      28          1        6                  0       11         16   \n",
       "\n",
       "  total_Op total_Opnd branchCount defects  \n",
       "0      1.2        1.2         1.4   False  \n",
       "1        1          1           1    True  \n",
       "2      112         86          13    True  \n",
       "3      329        271           5    True  \n",
       "4       76         50           7    True  \n",
       "\n",
       "[5 rows x 22 columns]"
      ]
     },
     "execution_count": 2,
     "metadata": {},
     "output_type": "execute_result"
    }
   ],
   "source": [
    "data = pd.read_csv('data.csv')\n",
    "\n",
    "data.head()"
   ]
  },
  {
   "cell_type": "code",
   "execution_count": 3,
   "metadata": {
    "colab": {
     "base_uri": "https://localhost:8080/",
     "height": 224
    },
    "colab_type": "code",
    "id": "6hBOcVn6VMJv",
    "outputId": "f21c662e-74a9-4539-ec02-02d1e30fca29"
   },
   "outputs": [
    {
     "data": {
      "text/html": [
       "<div>\n",
       "<style scoped>\n",
       "    .dataframe tbody tr th:only-of-type {\n",
       "        vertical-align: middle;\n",
       "    }\n",
       "\n",
       "    .dataframe tbody tr th {\n",
       "        vertical-align: top;\n",
       "    }\n",
       "\n",
       "    .dataframe thead th {\n",
       "        text-align: right;\n",
       "    }\n",
       "</style>\n",
       "<table border=\"1\" class=\"dataframe\">\n",
       "  <thead>\n",
       "    <tr style=\"text-align: right;\">\n",
       "      <th></th>\n",
       "      <th>loc</th>\n",
       "      <th>v(g)</th>\n",
       "      <th>ev(g)</th>\n",
       "      <th>iv(g)</th>\n",
       "      <th>n</th>\n",
       "      <th>v</th>\n",
       "      <th>l</th>\n",
       "      <th>d</th>\n",
       "      <th>i</th>\n",
       "      <th>e</th>\n",
       "      <th>b</th>\n",
       "      <th>t</th>\n",
       "      <th>lOCode</th>\n",
       "      <th>lOComment</th>\n",
       "      <th>lOBlank</th>\n",
       "      <th>locCodeAndComment</th>\n",
       "      <th>uniq_Op</th>\n",
       "      <th>uniq_Opnd</th>\n",
       "      <th>total_Op</th>\n",
       "      <th>total_Opnd</th>\n",
       "      <th>branchCount</th>\n",
       "      <th>defects</th>\n",
       "    </tr>\n",
       "  </thead>\n",
       "  <tbody>\n",
       "    <tr>\n",
       "      <td>0</td>\n",
       "      <td>1.1</td>\n",
       "      <td>1.4</td>\n",
       "      <td>1.4</td>\n",
       "      <td>1.4</td>\n",
       "      <td>1.3</td>\n",
       "      <td>1.30</td>\n",
       "      <td>1.30</td>\n",
       "      <td>1.30</td>\n",
       "      <td>1.30</td>\n",
       "      <td>1.30</td>\n",
       "      <td>1.30</td>\n",
       "      <td>1.30</td>\n",
       "      <td>2</td>\n",
       "      <td>2</td>\n",
       "      <td>2</td>\n",
       "      <td>2</td>\n",
       "      <td>1.2</td>\n",
       "      <td>1.2</td>\n",
       "      <td>1.2</td>\n",
       "      <td>1.2</td>\n",
       "      <td>1.4</td>\n",
       "      <td>False</td>\n",
       "    </tr>\n",
       "    <tr>\n",
       "      <td>1</td>\n",
       "      <td>1.0</td>\n",
       "      <td>1.0</td>\n",
       "      <td>1.0</td>\n",
       "      <td>1.0</td>\n",
       "      <td>1.0</td>\n",
       "      <td>1.00</td>\n",
       "      <td>1.00</td>\n",
       "      <td>1.00</td>\n",
       "      <td>1.00</td>\n",
       "      <td>1.00</td>\n",
       "      <td>1.00</td>\n",
       "      <td>1.00</td>\n",
       "      <td>1</td>\n",
       "      <td>1</td>\n",
       "      <td>1</td>\n",
       "      <td>1</td>\n",
       "      <td>1</td>\n",
       "      <td>1</td>\n",
       "      <td>1</td>\n",
       "      <td>1</td>\n",
       "      <td>1</td>\n",
       "      <td>True</td>\n",
       "    </tr>\n",
       "    <tr>\n",
       "      <td>2</td>\n",
       "      <td>72.0</td>\n",
       "      <td>7.0</td>\n",
       "      <td>1.0</td>\n",
       "      <td>6.0</td>\n",
       "      <td>198.0</td>\n",
       "      <td>1134.13</td>\n",
       "      <td>0.05</td>\n",
       "      <td>20.31</td>\n",
       "      <td>55.85</td>\n",
       "      <td>23029.10</td>\n",
       "      <td>0.38</td>\n",
       "      <td>1279.39</td>\n",
       "      <td>51</td>\n",
       "      <td>10</td>\n",
       "      <td>8</td>\n",
       "      <td>1</td>\n",
       "      <td>17</td>\n",
       "      <td>36</td>\n",
       "      <td>112</td>\n",
       "      <td>86</td>\n",
       "      <td>13</td>\n",
       "      <td>True</td>\n",
       "    </tr>\n",
       "    <tr>\n",
       "      <td>3</td>\n",
       "      <td>190.0</td>\n",
       "      <td>3.0</td>\n",
       "      <td>1.0</td>\n",
       "      <td>3.0</td>\n",
       "      <td>600.0</td>\n",
       "      <td>4348.76</td>\n",
       "      <td>0.06</td>\n",
       "      <td>17.06</td>\n",
       "      <td>254.87</td>\n",
       "      <td>74202.67</td>\n",
       "      <td>1.45</td>\n",
       "      <td>4122.37</td>\n",
       "      <td>129</td>\n",
       "      <td>29</td>\n",
       "      <td>28</td>\n",
       "      <td>2</td>\n",
       "      <td>17</td>\n",
       "      <td>135</td>\n",
       "      <td>329</td>\n",
       "      <td>271</td>\n",
       "      <td>5</td>\n",
       "      <td>True</td>\n",
       "    </tr>\n",
       "    <tr>\n",
       "      <td>4</td>\n",
       "      <td>37.0</td>\n",
       "      <td>4.0</td>\n",
       "      <td>1.0</td>\n",
       "      <td>4.0</td>\n",
       "      <td>126.0</td>\n",
       "      <td>599.12</td>\n",
       "      <td>0.06</td>\n",
       "      <td>17.19</td>\n",
       "      <td>34.86</td>\n",
       "      <td>10297.30</td>\n",
       "      <td>0.20</td>\n",
       "      <td>572.07</td>\n",
       "      <td>28</td>\n",
       "      <td>1</td>\n",
       "      <td>6</td>\n",
       "      <td>0</td>\n",
       "      <td>11</td>\n",
       "      <td>16</td>\n",
       "      <td>76</td>\n",
       "      <td>50</td>\n",
       "      <td>7</td>\n",
       "      <td>True</td>\n",
       "    </tr>\n",
       "  </tbody>\n",
       "</table>\n",
       "</div>"
      ],
      "text/plain": [
       "     loc  v(g)  ev(g)  iv(g)      n        v     l      d       i         e  \\\n",
       "0    1.1   1.4    1.4    1.4    1.3     1.30  1.30   1.30    1.30      1.30   \n",
       "1    1.0   1.0    1.0    1.0    1.0     1.00  1.00   1.00    1.00      1.00   \n",
       "2   72.0   7.0    1.0    6.0  198.0  1134.13  0.05  20.31   55.85  23029.10   \n",
       "3  190.0   3.0    1.0    3.0  600.0  4348.76  0.06  17.06  254.87  74202.67   \n",
       "4   37.0   4.0    1.0    4.0  126.0   599.12  0.06  17.19   34.86  10297.30   \n",
       "\n",
       "      b        t  lOCode  lOComment  lOBlank  locCodeAndComment uniq_Op  \\\n",
       "0  1.30     1.30       2          2        2                  2     1.2   \n",
       "1  1.00     1.00       1          1        1                  1       1   \n",
       "2  0.38  1279.39      51         10        8                  1      17   \n",
       "3  1.45  4122.37     129         29       28                  2      17   \n",
       "4  0.20   572.07      28          1        6                  0      11   \n",
       "\n",
       "  uniq_Opnd total_Op total_Opnd branchCount  defects  \n",
       "0       1.2      1.2        1.2         1.4    False  \n",
       "1         1        1          1           1     True  \n",
       "2        36      112         86          13     True  \n",
       "3       135      329        271           5     True  \n",
       "4        16       76         50           7     True  "
      ]
     },
     "execution_count": 3,
     "metadata": {},
     "output_type": "execute_result"
    }
   ],
   "source": [
    "pd.pandas.set_option('display.max_columns', 999)\n",
    "data.head(5)"
   ]
  },
  {
   "cell_type": "code",
   "execution_count": 4,
   "metadata": {
    "colab": {
     "base_uri": "https://localhost:8080/",
     "height": 965
    },
    "colab_type": "code",
    "id": "2NmtXrjoVMJx",
    "outputId": "009e5337-2d0c-4f5e-acb2-7dde5f52e8e3"
   },
   "outputs": [
    {
     "data": {
      "image/png": "[encoded data removed]",
      "text/plain": [
       "<Figure size 1080x1080 with 2 Axes>"
      ]
     },
     "metadata": {
      "needs_background": "light"
     },
     "output_type": "display_data"
    }
   ],
   "source": [
    "f,ax = plt.subplots(figsize = (15, 15))\n",
    "sns.heatmap(data.corr(), annot = True, linewidths = .5, fmt = '.2f')\n",
    "plt.show()"
   ]
  },
  {
   "cell_type": "markdown",
   "metadata": {
    "colab_type": "text",
    "id": "60MISeKwVMJ0"
   },
   "source": [
    "The light color in the heat map indicates that the covariance is high. (Ex. \"v-b\" , \"v-n\", etc.)\n",
    "\n",
    "The dark color in the heat map indicates that the covariance is low. (Ex. \"loc-l\" , \"l-d\", etc.)"
   ]
  },
  {
   "cell_type": "code",
   "execution_count": 5,
   "metadata": {
    "colab": {
     "base_uri": "https://localhost:8080/",
     "height": 510
    },
    "colab_type": "code",
    "id": "iEqugCPnV7Wl",
    "outputId": "129b9b07-b4b0-41a1-f718-5e434119ab27"
   },
   "outputs": [
    {
     "name": "stdout",
     "output_type": "stream",
     "text": [
      "<class 'pandas.core.frame.DataFrame'>\n",
      "RangeIndex: 10885 entries, 0 to 10884\n",
      "Data columns (total 22 columns):\n",
      "loc                  10885 non-null float64\n",
      "v(g)                 10885 non-null float64\n",
      "ev(g)                10885 non-null float64\n",
      "iv(g)                10885 non-null float64\n",
      "n                    10885 non-null float64\n",
      "v                    10885 non-null float64\n",
      "l                    10885 non-null float64\n",
      "d                    10885 non-null float64\n",
      "i                    10885 non-null float64\n",
      "e                    10885 non-null float64\n",
      "b                    10885 non-null float64\n",
      "t                    10885 non-null float64\n",
      "lOCode               10885 non-null int64\n",
      "lOComment            10885 non-null int64\n",
      "lOBlank              10885 non-null int64\n",
      "locCodeAndComment    10885 non-null int64\n",
      "uniq_Op              10885 non-null object\n",
      "uniq_Opnd            10885 non-null object\n",
      "total_Op             10885 non-null object\n",
      "total_Opnd           10885 non-null object\n",
      "branchCount          10885 non-null object\n",
      "defects              10885 non-null bool\n",
      "dtypes: bool(1), float64(12), int64(4), object(5)\n",
      "memory usage: 1.8+ MB\n"
     ]
    }
   ],
   "source": [
    "data.info()"
   ]
  },
  {
   "cell_type": "code",
   "execution_count": 6,
   "metadata": {
    "colab": {
     "base_uri": "https://localhost:8080/",
     "height": 34
    },
    "colab_type": "code",
    "id": "nt5K2AZtVMJ0",
    "outputId": "3e3aca30-96cf-4902-c0a2-32162c1ae6c8"
   },
   "outputs": [
    {
     "name": "stdout",
     "output_type": "stream",
     "text": [
      "Counter({False: 8779, True: 2106})\n"
     ]
    }
   ],
   "source": [
    "from collections import Counter\n",
    "counter=Counter(data['defects'])\n",
    "print(counter)"
   ]
  },
  {
   "cell_type": "code",
   "execution_count": 7,
   "metadata": {
    "colab": {
     "base_uri": "https://localhost:8080/",
     "height": 34
    },
    "colab_type": "code",
    "id": "SBFXlnWwVMJ3",
    "outputId": "cd78671b-b9b2-45d5-a0de-4dd9ecc6fd2b"
   },
   "outputs": [
    {
     "data": {
      "text/plain": [
       "array([False,  True])"
      ]
     },
     "execution_count": 7,
     "metadata": {},
     "output_type": "execute_result"
    }
   ],
   "source": [
    "data['defects'].unique()"
   ]
  },
  {
   "cell_type": "code",
   "execution_count": 8,
   "metadata": {
    "colab": {},
    "colab_type": "code",
    "id": "BDxosW6AWETz"
   },
   "outputs": [],
   "source": [
    "data['defects']= data['defects'].astype(int)\n",
    "data['uniq_Op']=pd.to_numeric(data['uniq_Op'],errors='coerce')\n",
    "#data['uniq_Op']= data['uniq_Op'].astype(str)\n",
    "#data['uniq_Op']= data['uniq_Op'].astype(float)\n",
    "data['uniq_Opnd']=pd.to_numeric(data['uniq_Opnd'],errors='coerce')\n",
    "data['total_Op']=pd.to_numeric(data['total_Op'],errors='coerce')\n",
    "data['total_Opnd']=pd.to_numeric(data['total_Opnd'],errors='coerce')\n",
    "data['branchCount']=pd.to_numeric(data['branchCount'],errors='coerce')\n"
   ]
  },
  {
   "cell_type": "code",
   "execution_count": 9,
   "metadata": {},
   "outputs": [
    {
     "name": "stdout",
     "output_type": "stream",
     "text": [
      "<class 'pandas.core.frame.DataFrame'>\n",
      "RangeIndex: 10885 entries, 0 to 10884\n",
      "Data columns (total 22 columns):\n",
      "loc                  10885 non-null float64\n",
      "v(g)                 10885 non-null float64\n",
      "ev(g)                10885 non-null float64\n",
      "iv(g)                10885 non-null float64\n",
      "n                    10885 non-null float64\n",
      "v                    10885 non-null float64\n",
      "l                    10885 non-null float64\n",
      "d                    10885 non-null float64\n",
      "i                    10885 non-null float64\n",
      "e                    10885 non-null float64\n",
      "b                    10885 non-null float64\n",
      "t                    10885 non-null float64\n",
      "lOCode               10885 non-null int64\n",
      "lOComment            10885 non-null int64\n",
      "lOBlank              10885 non-null int64\n",
      "locCodeAndComment    10885 non-null int64\n",
      "uniq_Op              10880 non-null float64\n",
      "uniq_Opnd            10880 non-null float64\n",
      "total_Op             10880 non-null float64\n",
      "total_Opnd           10880 non-null float64\n",
      "branchCount          10880 non-null float64\n",
      "defects              10885 non-null int32\n",
      "dtypes: float64(17), int32(1), int64(4)\n",
      "memory usage: 1.8 MB\n"
     ]
    }
   ],
   "source": [
    "data.info()"
   ]
  },
  {
   "cell_type": "code",
   "execution_count": 10,
   "metadata": {
    "colab": {
     "base_uri": "https://localhost:8080/",
     "height": 34
    },
    "colab_type": "code",
    "id": "8xkdH30IWscE",
    "outputId": "c5d919a1-6604-4858-a9ae-7036b9185665"
   },
   "outputs": [
    {
     "data": {
      "text/plain": [
       "array([0, 1], dtype=int64)"
      ]
     },
     "execution_count": 10,
     "metadata": {},
     "output_type": "execute_result"
    }
   ],
   "source": [
    "data['defects'].unique()"
   ]
  },
  {
   "cell_type": "markdown",
   "metadata": {
    "colab_type": "text",
    "id": "0_2qevVUVMJ8"
   },
   "source": [
    "\n",
    "if data['defects'] =='True':\n",
    "    data['defects'] = 1\n",
    "else:\n",
    "    data['defects'] = 0"
   ]
  },
  {
   "cell_type": "code",
   "execution_count": 11,
   "metadata": {
    "colab": {
     "base_uri": "https://localhost:8080/",
     "height": 68
    },
    "colab_type": "code",
    "id": "bPuQOsLaVMKB",
    "outputId": "dd46b96c-f498-4e79-8d4e-074dbdeb8175"
   },
   "outputs": [
    {
     "data": {
      "text/plain": [
       "0    8779\n",
       "1    2106\n",
       "Name: defects, dtype: int64"
      ]
     },
     "execution_count": 11,
     "metadata": {},
     "output_type": "execute_result"
    }
   ],
   "source": [
    "data['defects'].value_counts()"
   ]
  },
  {
   "cell_type": "markdown",
   "metadata": {
    "colab_type": "text",
    "id": "CwGxca7AVMKN"
   },
   "source": [
    "## Quantifying Missing Data¶"
   ]
  },
  {
   "cell_type": "code",
   "execution_count": 12,
   "metadata": {
    "ExecuteTime": {
     "end_time": "2020-03-09T07:31:14.669575Z",
     "start_time": "2020-03-09T07:31:14.655034Z"
    },
    "code_folding": [],
    "colab": {},
    "colab_type": "code",
    "id": "nSFf9PFRVMKN"
   },
   "outputs": [
    {
     "name": "stdout",
     "output_type": "stream",
     "text": [
      "loc [  1.1   1.   72.  190.   37.   31.   78.    8.   24.  143.   73.   83.\n",
      "  12.   48.   68.  138.   10.  250.   77.   85. ] \n",
      "\n",
      "v(g) [ 1.4  1.   7.   3.   4.   2.   9.  22.  10.  11.   8.  49.  17.   6.\n",
      " 35.  43.   5.  16.  21.  26. ] \n",
      "\n",
      "ev(g) [ 1.4  1.   5.  20.   4.  10.  34.  13.   6.  26.  33.   9.  21.  17.\n",
      "  3.  15.  12.  95.  14.  18. ] \n",
      "\n",
      "iv(g) [ 1.4  1.   6.   3.   4.   2.  10.   7.   5.   8.  16.  24.  19.  11.\n",
      " 85.   9.  55.  26.  35.  15. ] \n",
      "\n",
      "n [1.300e+00 1.000e+00 1.980e+02 6.000e+02 1.260e+02 1.110e+02 0.000e+00\n",
      " 1.600e+01 3.700e+01 1.290e+02 9.000e+00 1.469e+03 2.840e+02 2.770e+02\n",
      " 3.220e+02 1.710e+02 5.260e+02 1.450e+02 8.140e+02 8.800e+01] \n",
      "\n",
      "v [1.30000e+00 1.00000e+00 1.13413e+03 4.34876e+03 5.99120e+02 5.82520e+02\n",
      " 0.00000e+00 5.07200e+01 1.67370e+02 6.95610e+02 2.70000e+01 9.67331e+03\n",
      " 1.16084e+03 1.71458e+03 2.06926e+03 9.27890e+02 3.29633e+03 6.73360e+02\n",
      " 5.81159e+03 4.65120e+02] \n",
      "\n",
      "l [1.3  1.   0.05 0.06 0.08 0.   0.36 0.15 0.5  0.01 0.02 0.03 0.04 0.19\n",
      " 0.11 0.17 0.07 0.34 0.33 0.24] \n",
      "\n",
      "d [ 1.3   1.   20.31 17.06 17.19 12.25  0.    2.8   6.87 17.35  2.   97.\n",
      " 40.95 32.64 33.41 25.33 42.56 20.53 40.88 12.04] \n",
      "\n",
      "i [  1.3    1.    55.85 254.87  34.86  47.55   0.    18.11  24.34  40.1\n",
      "  13.5   99.72  28.35  52.53  61.94  36.63  77.45  32.8  142.15  38.63] \n",
      "\n",
      "e [1.3000000e+00 1.0000000e+00 2.3029100e+04 7.4202670e+04 1.0297300e+04\n",
      " 7.1358700e+03 0.0000000e+00 1.4201000e+02 1.1506800e+03 1.2067300e+04\n",
      " 5.4000000e+01 9.3831106e+05 4.7536380e+04 5.5961020e+04 6.9127220e+04\n",
      " 2.3506580e+04 1.4030003e+05 1.3824900e+04 2.3760680e+05 5.5999900e+03] \n",
      "\n",
      "b [1.3  1.   0.38 1.45 0.2  0.19 0.   0.02 0.06 0.23 0.01 3.22 0.39 0.57\n",
      " 0.69 0.31 1.1  0.22 1.94 0.16] \n",
      "\n",
      "t [1.300000e+00 1.000000e+00 1.279390e+03 4.122370e+03 5.720700e+02\n",
      " 3.964400e+02 0.000000e+00 7.890000e+00 6.393000e+01 6.704100e+02\n",
      " 3.000000e+00 5.212839e+04 2.640910e+03 3.108950e+03 3.840400e+03\n",
      " 1.305920e+03 7.794450e+03 7.680500e+02 1.320038e+04 3.111100e+02] \n",
      "\n",
      "lOCode [  2   1  51 129  28  19   0   5   8  29 139  59  69  81  34 164 223  21\n",
      " 123  66] \n",
      "\n",
      "lOComment [ 2  1 10 29  0 92 13 41 11 19  4  6  7  3  9 21  8 17 28 14] \n",
      "\n",
      "lOBlank [ 2  1  8 28  6  5  0 16 17 14 13  7 26 23  9  3  4 19 12 15] \n",
      "\n",
      "locCodeAndComment [  2   1   0   6   5  22   3   8  12   4   7  16  11   9  10  13  30  38\n",
      " 108  14] \n",
      "\n",
      "uniq_Op [ 1.2  1.  17.  11.  14.   0.   4.  19.  32.   7.  26.  27.  21.   9.\n",
      " 28.  22.  16.   8.  20.  10. ] \n",
      "\n",
      "uniq_Opnd [  1.2   1.   36.  135.   16.   24.    0.    5.   12.   23.    4.   64.\n",
      "  10.   47.   59.   56.  113.   25.  103.   29. ] \n",
      "\n",
      "total_Op [1.200e+00 1.000e+00 1.120e+02 3.290e+02 7.600e+01 6.900e+01 0.000e+00\n",
      " 9.000e+00 2.200e+01 8.700e+01 5.000e+00 1.081e+03 1.670e+02 1.610e+02\n",
      " 1.760e+02 1.070e+02 2.990e+02 7.200e+01 4.840e+02 4.500e+01] \n",
      "\n",
      "total_Opnd [  1.2   1.   86.  271.   50.   42.    0.    7.   15.    4.  388.  117.\n",
      " 118.  146.   64.  227.   73.  330.   43.  310. ] \n",
      "\n",
      "branchCount [ 1.4  1.  13.   5.   7.   3.  17.  43.  19.  21.  15.  97.  33.  11.\n",
      " 69.  85.   9.  31.  41.  47. ] \n",
      "\n",
      "defects [0 1] \n",
      "\n"
     ]
    }
   ],
   "source": [
    "# let's inspect the variable values\n",
    "\n",
    "for var in data.columns:\n",
    "    print(var, data[var].unique()[0:20], '\\n')"
   ]
  },
  {
   "cell_type": "code",
   "execution_count": 13,
   "metadata": {
    "colab": {},
    "colab_type": "code",
    "id": "oJoWuMaYVMKu"
   },
   "outputs": [
    {
     "name": "stdout",
     "output_type": "stream",
     "text": [
      "There are 21 continuous variables\n",
      "There are 1 discrete variables\n",
      "There are 0 categorical variables\n"
     ]
    }
   ],
   "source": [
    "# make list of variables  types\n",
    "\n",
    "# make lists of variable types\n",
    "\n",
    "categorical = [var for var in data.columns if data[var].dtype == 'O']\n",
    "\n",
    "\n",
    "\n",
    "discrete = [\n",
    "    var for var in data.columns if data[var].dtype != 'O'\n",
    "    and len(data[var].unique()) < 30 \n",
    "]\n",
    "#data.unique gives me unique values\n",
    "\n",
    "continuous = [\n",
    "    var for var in data.columns if data[var].dtype != 'O'\n",
    "    if var not in discrete \n",
    "]\n",
    "\n",
    "print(f'There are {len(continuous)} continuous variables')\n",
    "print(f'There are {len(discrete)} discrete variables')\n",
    "\n",
    "print(f'There are {len(categorical)} categorical variables')"
   ]
  },
  {
   "cell_type": "code",
   "execution_count": 14,
   "metadata": {
    "colab": {},
    "colab_type": "code",
    "id": "riCmaS2TVMKw"
   },
   "outputs": [
    {
     "name": "stdout",
     "output_type": "stream",
     "text": [
      "defects [0 1] \n",
      "\n"
     ]
    }
   ],
   "source": [
    "\n",
    "for var in discrete:\n",
    "    print(var, data[var].unique(), '\\n')"
   ]
  },
  {
   "cell_type": "code",
   "execution_count": 15,
   "metadata": {},
   "outputs": [],
   "source": [
    "\n",
    "for var in categorical:\n",
    "    print(var, data[var].unique(), '\\n')"
   ]
  },
  {
   "cell_type": "code",
   "execution_count": 16,
   "metadata": {
    "ExecuteTime": {
     "end_time": "2020-03-09T07:31:21.025926Z",
     "start_time": "2020-03-09T07:31:21.013893Z"
    },
    "colab": {},
    "colab_type": "code",
    "id": "TYafe8n0VMKy"
   },
   "outputs": [
    {
     "name": "stdout",
     "output_type": "stream",
     "text": [
      "loc [  1.1   1.   72.  190.   37.   31.   78.    8.   24.  143.   73.   83.\n",
      "  12.   48.   68.  138.   10.  250.   77.   85. ] \n",
      "\n",
      "v(g) [ 1.4  1.   7.   3.   4.   2.   9.  22.  10.  11.   8.  49.  17.   6.\n",
      " 35.  43.   5.  16.  21.  26. ] \n",
      "\n",
      "ev(g) [ 1.4  1.   5.  20.   4.  10.  34.  13.   6.  26.  33.   9.  21.  17.\n",
      "  3.  15.  12.  95.  14.  18. ] \n",
      "\n",
      "iv(g) [ 1.4  1.   6.   3.   4.   2.  10.   7.   5.   8.  16.  24.  19.  11.\n",
      " 85.   9.  55.  26.  35.  15. ] \n",
      "\n",
      "n [1.300e+00 1.000e+00 1.980e+02 6.000e+02 1.260e+02 1.110e+02 0.000e+00\n",
      " 1.600e+01 3.700e+01 1.290e+02 9.000e+00 1.469e+03 2.840e+02 2.770e+02\n",
      " 3.220e+02 1.710e+02 5.260e+02 1.450e+02 8.140e+02 8.800e+01] \n",
      "\n",
      "v [1.30000e+00 1.00000e+00 1.13413e+03 4.34876e+03 5.99120e+02 5.82520e+02\n",
      " 0.00000e+00 5.07200e+01 1.67370e+02 6.95610e+02 2.70000e+01 9.67331e+03\n",
      " 1.16084e+03 1.71458e+03 2.06926e+03 9.27890e+02 3.29633e+03 6.73360e+02\n",
      " 5.81159e+03 4.65120e+02] \n",
      "\n",
      "l [1.3  1.   0.05 0.06 0.08 0.   0.36 0.15 0.5  0.01 0.02 0.03 0.04 0.19\n",
      " 0.11 0.17 0.07 0.34 0.33 0.24] \n",
      "\n",
      "d [ 1.3   1.   20.31 17.06 17.19 12.25  0.    2.8   6.87 17.35  2.   97.\n",
      " 40.95 32.64 33.41 25.33 42.56 20.53 40.88 12.04] \n",
      "\n",
      "i [  1.3    1.    55.85 254.87  34.86  47.55   0.    18.11  24.34  40.1\n",
      "  13.5   99.72  28.35  52.53  61.94  36.63  77.45  32.8  142.15  38.63] \n",
      "\n",
      "e [1.3000000e+00 1.0000000e+00 2.3029100e+04 7.4202670e+04 1.0297300e+04\n",
      " 7.1358700e+03 0.0000000e+00 1.4201000e+02 1.1506800e+03 1.2067300e+04\n",
      " 5.4000000e+01 9.3831106e+05 4.7536380e+04 5.5961020e+04 6.9127220e+04\n",
      " 2.3506580e+04 1.4030003e+05 1.3824900e+04 2.3760680e+05 5.5999900e+03] \n",
      "\n",
      "b [1.3  1.   0.38 1.45 0.2  0.19 0.   0.02 0.06 0.23 0.01 3.22 0.39 0.57\n",
      " 0.69 0.31 1.1  0.22 1.94 0.16] \n",
      "\n",
      "t [1.300000e+00 1.000000e+00 1.279390e+03 4.122370e+03 5.720700e+02\n",
      " 3.964400e+02 0.000000e+00 7.890000e+00 6.393000e+01 6.704100e+02\n",
      " 3.000000e+00 5.212839e+04 2.640910e+03 3.108950e+03 3.840400e+03\n",
      " 1.305920e+03 7.794450e+03 7.680500e+02 1.320038e+04 3.111100e+02] \n",
      "\n",
      "lOCode [  2   1  51 129  28  19   0   5   8  29 139  59  69  81  34 164 223  21\n",
      " 123  66] \n",
      "\n",
      "lOComment [ 2  1 10 29  0 92 13 41 11 19  4  6  7  3  9 21  8 17 28 14] \n",
      "\n",
      "lOBlank [ 2  1  8 28  6  5  0 16 17 14 13  7 26 23  9  3  4 19 12 15] \n",
      "\n",
      "locCodeAndComment [  2   1   0   6   5  22   3   8  12   4   7  16  11   9  10  13  30  38\n",
      " 108  14] \n",
      "\n",
      "uniq_Op [ 1.2  1.  17.  11.  14.   0.   4.  19.  32.   7.  26.  27.  21.   9.\n",
      " 28.  22.  16.   8.  20.  10. ] \n",
      "\n",
      "uniq_Opnd [  1.2   1.   36.  135.   16.   24.    0.    5.   12.   23.    4.   64.\n",
      "  10.   47.   59.   56.  113.   25.  103.   29. ] \n",
      "\n",
      "total_Op [1.200e+00 1.000e+00 1.120e+02 3.290e+02 7.600e+01 6.900e+01 0.000e+00\n",
      " 9.000e+00 2.200e+01 8.700e+01 5.000e+00 1.081e+03 1.670e+02 1.610e+02\n",
      " 1.760e+02 1.070e+02 2.990e+02 7.200e+01 4.840e+02 4.500e+01] \n",
      "\n",
      "total_Opnd [  1.2   1.   86.  271.   50.   42.    0.    7.   15.    4.  388.  117.\n",
      " 118.  146.   64.  227.   73.  330.   43.  310. ] \n",
      "\n",
      "branchCount [ 1.4  1.  13.   5.   7.   3.  17.  43.  19.  21.  15.  97.  33.  11.\n",
      " 69.  85.   9.  31.  41.  47. ] \n",
      "\n"
     ]
    }
   ],
   "source": [
    "for var in continuous:\n",
    "    print(var, data[var].unique()[0:20], '\\n')"
   ]
  },
  {
   "cell_type": "code",
   "execution_count": 17,
   "metadata": {
    "colab": {},
    "colab_type": "code",
    "id": "60iM2R0mVMK0"
   },
   "outputs": [
    {
     "data": {
      "text/html": [
       "<div>\n",
       "<style scoped>\n",
       "    .dataframe tbody tr th:only-of-type {\n",
       "        vertical-align: middle;\n",
       "    }\n",
       "\n",
       "    .dataframe tbody tr th {\n",
       "        vertical-align: top;\n",
       "    }\n",
       "\n",
       "    .dataframe thead th {\n",
       "        text-align: right;\n",
       "    }\n",
       "</style>\n",
       "<table border=\"1\" class=\"dataframe\">\n",
       "  <thead>\n",
       "    <tr style=\"text-align: right;\">\n",
       "      <th></th>\n",
       "      <th>loc</th>\n",
       "      <th>v(g)</th>\n",
       "      <th>ev(g)</th>\n",
       "      <th>iv(g)</th>\n",
       "      <th>n</th>\n",
       "      <th>v</th>\n",
       "      <th>l</th>\n",
       "      <th>d</th>\n",
       "      <th>i</th>\n",
       "      <th>e</th>\n",
       "      <th>b</th>\n",
       "      <th>t</th>\n",
       "      <th>lOCode</th>\n",
       "      <th>lOComment</th>\n",
       "      <th>lOBlank</th>\n",
       "      <th>locCodeAndComment</th>\n",
       "      <th>uniq_Op</th>\n",
       "      <th>uniq_Opnd</th>\n",
       "      <th>total_Op</th>\n",
       "      <th>total_Opnd</th>\n",
       "      <th>branchCount</th>\n",
       "    </tr>\n",
       "  </thead>\n",
       "  <tbody>\n",
       "    <tr>\n",
       "      <td>count</td>\n",
       "      <td>10885.000000</td>\n",
       "      <td>10885.000000</td>\n",
       "      <td>10885.000000</td>\n",
       "      <td>10885.000000</td>\n",
       "      <td>10885.000000</td>\n",
       "      <td>10885.000000</td>\n",
       "      <td>10885.000000</td>\n",
       "      <td>10885.000000</td>\n",
       "      <td>10885.000000</td>\n",
       "      <td>1.088500e+04</td>\n",
       "      <td>10885.000000</td>\n",
       "      <td>1.088500e+04</td>\n",
       "      <td>10885.000000</td>\n",
       "      <td>10885.000000</td>\n",
       "      <td>10885.00000</td>\n",
       "      <td>10885.000000</td>\n",
       "      <td>10880.000000</td>\n",
       "      <td>10880.000000</td>\n",
       "      <td>10880.000000</td>\n",
       "      <td>10880.000000</td>\n",
       "      <td>10880.000000</td>\n",
       "    </tr>\n",
       "    <tr>\n",
       "      <td>mean</td>\n",
       "      <td>42.016178</td>\n",
       "      <td>6.348590</td>\n",
       "      <td>3.401047</td>\n",
       "      <td>4.001599</td>\n",
       "      <td>114.389738</td>\n",
       "      <td>673.758017</td>\n",
       "      <td>0.135335</td>\n",
       "      <td>14.177237</td>\n",
       "      <td>29.439544</td>\n",
       "      <td>3.683637e+04</td>\n",
       "      <td>0.224766</td>\n",
       "      <td>2.046465e+03</td>\n",
       "      <td>26.252274</td>\n",
       "      <td>2.737529</td>\n",
       "      <td>4.62554</td>\n",
       "      <td>0.370785</td>\n",
       "      <td>11.177592</td>\n",
       "      <td>16.751857</td>\n",
       "      <td>68.110588</td>\n",
       "      <td>46.388989</td>\n",
       "      <td>11.292316</td>\n",
       "    </tr>\n",
       "    <tr>\n",
       "      <td>std</td>\n",
       "      <td>76.593332</td>\n",
       "      <td>13.019695</td>\n",
       "      <td>6.771869</td>\n",
       "      <td>9.116889</td>\n",
       "      <td>249.502091</td>\n",
       "      <td>1938.856196</td>\n",
       "      <td>0.160538</td>\n",
       "      <td>18.709900</td>\n",
       "      <td>34.418313</td>\n",
       "      <td>4.343678e+05</td>\n",
       "      <td>0.646408</td>\n",
       "      <td>2.413154e+04</td>\n",
       "      <td>59.611201</td>\n",
       "      <td>9.008608</td>\n",
       "      <td>9.96813</td>\n",
       "      <td>1.907969</td>\n",
       "      <td>10.045255</td>\n",
       "      <td>26.667883</td>\n",
       "      <td>151.513836</td>\n",
       "      <td>100.351845</td>\n",
       "      <td>22.597617</td>\n",
       "    </tr>\n",
       "    <tr>\n",
       "      <td>min</td>\n",
       "      <td>1.000000</td>\n",
       "      <td>1.000000</td>\n",
       "      <td>1.000000</td>\n",
       "      <td>1.000000</td>\n",
       "      <td>0.000000</td>\n",
       "      <td>0.000000</td>\n",
       "      <td>0.000000</td>\n",
       "      <td>0.000000</td>\n",
       "      <td>0.000000</td>\n",
       "      <td>0.000000e+00</td>\n",
       "      <td>0.000000</td>\n",
       "      <td>0.000000e+00</td>\n",
       "      <td>0.000000</td>\n",
       "      <td>0.000000</td>\n",
       "      <td>0.00000</td>\n",
       "      <td>0.000000</td>\n",
       "      <td>0.000000</td>\n",
       "      <td>0.000000</td>\n",
       "      <td>0.000000</td>\n",
       "      <td>0.000000</td>\n",
       "      <td>1.000000</td>\n",
       "    </tr>\n",
       "    <tr>\n",
       "      <td>25%</td>\n",
       "      <td>11.000000</td>\n",
       "      <td>2.000000</td>\n",
       "      <td>1.000000</td>\n",
       "      <td>1.000000</td>\n",
       "      <td>14.000000</td>\n",
       "      <td>48.430000</td>\n",
       "      <td>0.030000</td>\n",
       "      <td>3.000000</td>\n",
       "      <td>11.860000</td>\n",
       "      <td>1.619400e+02</td>\n",
       "      <td>0.020000</td>\n",
       "      <td>9.000000e+00</td>\n",
       "      <td>4.000000</td>\n",
       "      <td>0.000000</td>\n",
       "      <td>0.00000</td>\n",
       "      <td>0.000000</td>\n",
       "      <td>5.000000</td>\n",
       "      <td>4.000000</td>\n",
       "      <td>8.000000</td>\n",
       "      <td>6.000000</td>\n",
       "      <td>3.000000</td>\n",
       "    </tr>\n",
       "    <tr>\n",
       "      <td>50%</td>\n",
       "      <td>23.000000</td>\n",
       "      <td>3.000000</td>\n",
       "      <td>1.000000</td>\n",
       "      <td>2.000000</td>\n",
       "      <td>49.000000</td>\n",
       "      <td>217.130000</td>\n",
       "      <td>0.080000</td>\n",
       "      <td>9.090000</td>\n",
       "      <td>21.930000</td>\n",
       "      <td>2.031020e+03</td>\n",
       "      <td>0.070000</td>\n",
       "      <td>1.128300e+02</td>\n",
       "      <td>13.000000</td>\n",
       "      <td>0.000000</td>\n",
       "      <td>2.00000</td>\n",
       "      <td>0.000000</td>\n",
       "      <td>11.000000</td>\n",
       "      <td>11.000000</td>\n",
       "      <td>29.000000</td>\n",
       "      <td>19.000000</td>\n",
       "      <td>5.000000</td>\n",
       "    </tr>\n",
       "    <tr>\n",
       "      <td>75%</td>\n",
       "      <td>46.000000</td>\n",
       "      <td>7.000000</td>\n",
       "      <td>3.000000</td>\n",
       "      <td>4.000000</td>\n",
       "      <td>119.000000</td>\n",
       "      <td>621.480000</td>\n",
       "      <td>0.160000</td>\n",
       "      <td>18.900000</td>\n",
       "      <td>36.780000</td>\n",
       "      <td>1.141643e+04</td>\n",
       "      <td>0.210000</td>\n",
       "      <td>6.342500e+02</td>\n",
       "      <td>28.000000</td>\n",
       "      <td>2.000000</td>\n",
       "      <td>5.00000</td>\n",
       "      <td>0.000000</td>\n",
       "      <td>16.000000</td>\n",
       "      <td>21.000000</td>\n",
       "      <td>71.000000</td>\n",
       "      <td>48.000000</td>\n",
       "      <td>13.000000</td>\n",
       "    </tr>\n",
       "    <tr>\n",
       "      <td>max</td>\n",
       "      <td>3442.000000</td>\n",
       "      <td>470.000000</td>\n",
       "      <td>165.000000</td>\n",
       "      <td>402.000000</td>\n",
       "      <td>8441.000000</td>\n",
       "      <td>80843.080000</td>\n",
       "      <td>1.300000</td>\n",
       "      <td>418.200000</td>\n",
       "      <td>569.780000</td>\n",
       "      <td>3.107978e+07</td>\n",
       "      <td>26.950000</td>\n",
       "      <td>1.726655e+06</td>\n",
       "      <td>2824.000000</td>\n",
       "      <td>344.000000</td>\n",
       "      <td>447.00000</td>\n",
       "      <td>108.000000</td>\n",
       "      <td>411.000000</td>\n",
       "      <td>1026.000000</td>\n",
       "      <td>5420.000000</td>\n",
       "      <td>3021.000000</td>\n",
       "      <td>826.000000</td>\n",
       "    </tr>\n",
       "  </tbody>\n",
       "</table>\n",
       "</div>"
      ],
      "text/plain": [
       "                loc          v(g)         ev(g)         iv(g)             n  \\\n",
       "count  10885.000000  10885.000000  10885.000000  10885.000000  10885.000000   \n",
       "mean      42.016178      6.348590      3.401047      4.001599    114.389738   \n",
       "std       76.593332     13.019695      6.771869      9.116889    249.502091   \n",
       "min        1.000000      1.000000      1.000000      1.000000      0.000000   \n",
       "25%       11.000000      2.000000      1.000000      1.000000     14.000000   \n",
       "50%       23.000000      3.000000      1.000000      2.000000     49.000000   \n",
       "75%       46.000000      7.000000      3.000000      4.000000    119.000000   \n",
       "max     3442.000000    470.000000    165.000000    402.000000   8441.000000   \n",
       "\n",
       "                  v             l             d             i             e  \\\n",
       "count  10885.000000  10885.000000  10885.000000  10885.000000  1.088500e+04   \n",
       "mean     673.758017      0.135335     14.177237     29.439544  3.683637e+04   \n",
       "std     1938.856196      0.160538     18.709900     34.418313  4.343678e+05   \n",
       "min        0.000000      0.000000      0.000000      0.000000  0.000000e+00   \n",
       "25%       48.430000      0.030000      3.000000     11.860000  1.619400e+02   \n",
       "50%      217.130000      0.080000      9.090000     21.930000  2.031020e+03   \n",
       "75%      621.480000      0.160000     18.900000     36.780000  1.141643e+04   \n",
       "max    80843.080000      1.300000    418.200000    569.780000  3.107978e+07   \n",
       "\n",
       "                  b             t        lOCode     lOComment      lOBlank  \\\n",
       "count  10885.000000  1.088500e+04  10885.000000  10885.000000  10885.00000   \n",
       "mean       0.224766  2.046465e+03     26.252274      2.737529      4.62554   \n",
       "std        0.646408  2.413154e+04     59.611201      9.008608      9.96813   \n",
       "min        0.000000  0.000000e+00      0.000000      0.000000      0.00000   \n",
       "25%        0.020000  9.000000e+00      4.000000      0.000000      0.00000   \n",
       "50%        0.070000  1.128300e+02     13.000000      0.000000      2.00000   \n",
       "75%        0.210000  6.342500e+02     28.000000      2.000000      5.00000   \n",
       "max       26.950000  1.726655e+06   2824.000000    344.000000    447.00000   \n",
       "\n",
       "       locCodeAndComment       uniq_Op     uniq_Opnd      total_Op  \\\n",
       "count       10885.000000  10880.000000  10880.000000  10880.000000   \n",
       "mean            0.370785     11.177592     16.751857     68.110588   \n",
       "std             1.907969     10.045255     26.667883    151.513836   \n",
       "min             0.000000      0.000000      0.000000      0.000000   \n",
       "25%             0.000000      5.000000      4.000000      8.000000   \n",
       "50%             0.000000     11.000000     11.000000     29.000000   \n",
       "75%             0.000000     16.000000     21.000000     71.000000   \n",
       "max           108.000000    411.000000   1026.000000   5420.000000   \n",
       "\n",
       "         total_Opnd   branchCount  \n",
       "count  10880.000000  10880.000000  \n",
       "mean      46.388989     11.292316  \n",
       "std      100.351845     22.597617  \n",
       "min        0.000000      1.000000  \n",
       "25%        6.000000      3.000000  \n",
       "50%       19.000000      5.000000  \n",
       "75%       48.000000     13.000000  \n",
       "max     3021.000000    826.000000  "
      ]
     },
     "execution_count": 17,
     "metadata": {},
     "output_type": "execute_result"
    }
   ],
   "source": [
    "data[continuous].describe()"
   ]
  },
  {
   "cell_type": "code",
   "execution_count": 18,
   "metadata": {},
   "outputs": [
    {
     "name": "stdout",
     "output_type": "stream",
     "text": [
      "uniq_Op :  0.00045934772622875517\n",
      "uniq_Opnd :  0.00045934772622875517\n",
      "total_Op :  0.00045934772622875517\n",
      "total_Opnd :  0.00045934772622875517\n",
      "branchCount :  0.00045934772622875517\n"
     ]
    }
   ],
   "source": [
    "# missing values\n",
    "for i in data.columns:\n",
    "    if data[i].isnull().mean()>0:\n",
    "        print(i,': ', data[i].isnull().mean())"
   ]
  },
  {
   "cell_type": "markdown",
   "metadata": {
    "colab_type": "text",
    "id": "2_3afay2VMK2"
   },
   "source": [
    "## Feature Engineering "
   ]
  },
  {
   "cell_type": "code",
   "execution_count": 19,
   "metadata": {
    "colab": {},
    "colab_type": "code",
    "id": "PSPsa6vcVMK2"
   },
   "outputs": [
    {
     "data": {
      "text/plain": [
       "((8708, 21), (8708,), (2177, 21), (2177,))"
      ]
     },
     "execution_count": 19,
     "metadata": {},
     "output_type": "execute_result"
    }
   ],
   "source": [
    "# separate into training and testing set\n",
    "from sklearn.model_selection import train_test_split\n",
    "X_train, X_test, y_train, y_test = train_test_split(\n",
    "    data.drop('defects', axis=1),  # predictors\n",
    "    data['defects'],  # target\n",
    "    test_size=0.2,  # percentage of obs in test set\n",
    "    random_state=0)  # seed to ensure reproducibility\n",
    "\n",
    "X_train.shape,y_train.shape, X_test.shape, y_test.shape"
   ]
  },
  {
   "cell_type": "code",
   "execution_count": 20,
   "metadata": {},
   "outputs": [
    {
     "data": {
      "text/plain": [
       "['uniq_Op', 'uniq_Opnd', 'total_Op', 'total_Opnd', 'branchCount']"
      ]
     },
     "execution_count": 20,
     "metadata": {},
     "output_type": "execute_result"
    }
   ],
   "source": [
    "null_col = []\n",
    "for col in X_train.columns:\n",
    "    null_count = sum((X_train[col].isnull()))\n",
    "    if null_count > 0:\n",
    "        null_col.append(col)\n",
    "null_col"
   ]
  },
  {
   "cell_type": "code",
   "execution_count": 21,
   "metadata": {
    "ExecuteTime": {
     "end_time": "2020-03-09T07:31:49.061072Z",
     "start_time": "2020-03-09T07:31:49.056562Z"
    },
    "colab": {},
    "colab_type": "code",
    "id": "5i5m1astVMK5"
   },
   "outputs": [],
   "source": [
    "# from feature-engine\n",
    "from feature_engine import missing_data_imputers as mdi\n",
    "# for one hot encoding with feature-engine\n",
    "from feature_engine.categorical_encoders import OneHotCategoricalEncoder\n",
    "from feature_engine.categorical_encoders import RareLabelCategoricalEncoder\n",
    "from sklearn.linear_model import LogisticRegression\n",
    "from sklearn.pipeline import Pipeline\n",
    "from sklearn.preprocessing import StandardScaler\n",
    "from sklearn.preprocessing import MinMaxScaler\n",
    "from feature_engine.variable_transformers import YeoJohnsonTransformer\n",
    "from feature_engine import discretisers as dsc\n",
    "from feature_engine import categorical_encoders as ce\n",
    "from feature_engine.discretisers import EqualFrequencyDiscretiser\n",
    "from feature_engine.discretisers import DecisionTreeDiscretiser"
   ]
  },
  {
   "cell_type": "code",
   "execution_count": 22,
   "metadata": {
    "ExecuteTime": {
     "end_time": "2020-03-09T07:31:49.933251Z",
     "start_time": "2020-03-09T07:31:49.926236Z"
    },
    "colab": {},
    "colab_type": "code",
    "id": "JUz7mv6XVMK7"
   },
   "outputs": [],
   "source": [
    "data_pipe = Pipeline([\n",
    "\n",
    "    # missing data imputation \n",
    "    ('missing_ind', mdi.AddNaNBinaryImputer(\n",
    "       variables=null_col)),\n",
    "    #('imputer_num_arbit',\n",
    "     #mdi.ArbitraryNumberImputer(arbitrary_number=-1,\n",
    "     #                           variables = col_impu),\n",
    "    ('imputer_num_mean',\n",
    "     mdi.MeanMedianImputer(imputation_method='mean',variables=null_col)),\n",
    "    \n",
    "     # categorical encoding \n",
    "     #('rare_label_enc', ce.RareLabelCategoricalEncoder(\n",
    "     #    tol=0.01,n_categories=6, variables=categorical)),\n",
    "    #('categorical_enc', ce.OneHotCategoricalEncoder(variables = categorical)),\n",
    "     \n",
    "    # discretisation and encoding\n",
    "   ('treeDisc',  DecisionTreeDiscretiser(cv=2,\n",
    "                               regression=True,\n",
    "                                  param_grid={'max_depth': [1,2,3,4,5,6]})),\n",
    "    \n",
    "    \n",
    "    # feature Scaling\n",
    "     #('scale',MinMaxScaler())\n",
    "    ('scaler', StandardScaler()),\n",
    "   \n",
    "\n",
    "])"
   ]
  },
  {
   "cell_type": "code",
   "execution_count": 23,
   "metadata": {
    "ExecuteTime": {
     "end_time": "2020-03-09T07:31:52.228656Z",
     "start_time": "2020-03-09T07:31:52.177198Z"
    },
    "colab": {},
    "colab_type": "code",
    "id": "ztJyES6zVMK9"
   },
   "outputs": [
    {
     "data": {
      "text/plain": [
       "Pipeline(memory=None,\n",
       "         steps=[('missing_ind',\n",
       "                 AddNaNBinaryImputer(variables=['uniq_Op', 'uniq_Opnd',\n",
       "                                                'total_Op', 'total_Opnd',\n",
       "                                                'branchCount'])),\n",
       "                ('imputer_num_mean',\n",
       "                 MeanMedianImputer(imputation_method='mean',\n",
       "                                   variables=['uniq_Op', 'uniq_Opnd',\n",
       "                                              'total_Op', 'total_Opnd',\n",
       "                                              'branchCount'])),\n",
       "                ('treeDisc',\n",
       "                 DecisionTreeDiscretiser(cv=2,\n",
       "                                         param_grid={'max_depth': [1, 2, 3, 4,\n",
       "                                                                   5,...\n",
       "                                         scoring='neg_mean_squared_error',\n",
       "                                         variables=['loc', 'v(g)', 'ev(g)',\n",
       "                                                    'iv(g)', 'n', 'v', 'l', 'd',\n",
       "                                                    'i', 'e', 'b', 't',\n",
       "                                                    'lOCode', 'lOComment',\n",
       "                                                    'lOBlank',\n",
       "                                                    'locCodeAndComment',\n",
       "                                                    'uniq_Op', 'uniq_Opnd',\n",
       "                                                    'total_Op', 'total_Opnd',\n",
       "                                                    'branchCount', 'uniq_Op_na',\n",
       "                                                    'uniq_Opnd_na',\n",
       "                                                    'total_Op_na',\n",
       "                                                    'total_Opnd_na',\n",
       "                                                    'branchCount_na'])),\n",
       "                ('scaler',\n",
       "                 StandardScaler(copy=True, with_mean=True, with_std=True))],\n",
       "         verbose=False)"
      ]
     },
     "execution_count": 23,
     "metadata": {},
     "output_type": "execute_result"
    }
   ],
   "source": [
    "data_pipe.fit(X_train, y_train)"
   ]
  },
  {
   "cell_type": "code",
   "execution_count": 24,
   "metadata": {
    "ExecuteTime": {
     "end_time": "2020-03-09T07:31:54.293463Z",
     "start_time": "2020-03-09T07:31:54.238241Z"
    },
    "colab": {},
    "colab_type": "code",
    "id": "5RWtNSftVMK_"
   },
   "outputs": [],
   "source": [
    "# Apply Transformations\n",
    "X_train=data_pipe.transform(X_train)\n",
    "X_test=data_pipe.transform(X_test)"
   ]
  },
  {
   "cell_type": "markdown",
   "metadata": {
    "colab_type": "text",
    "id": "i4sieZHdVMLB"
   },
   "source": [
    "# Models"
   ]
  },
  {
   "cell_type": "code",
   "execution_count": 25,
   "metadata": {
    "colab": {},
    "colab_type": "code",
    "id": "KCCrf3ORVMLB"
   },
   "outputs": [],
   "source": [
    "from sklearn.linear_model import LogisticRegression\n",
    "from sklearn.model_selection import cross_val_score\n",
    "from sklearn.model_selection import GridSearchCV\n",
    "from sklearn.model_selection import GridSearchCV\n",
    "from sklearn.neighbors import KNeighborsClassifier\n",
    "from sklearn.model_selection import GridSearchCV\n",
    "from sklearn.tree import DecisionTreeClassifier\n",
    "from sklearn.svm import SVC, LinearSVC\n",
    "from sklearn.metrics import confusion_matrix\n",
    "from sklearn.metrics import f1_score"
   ]
  },
  {
   "cell_type": "markdown",
   "metadata": {
    "colab_type": "text",
    "id": "yYbByjowVMLD"
   },
   "source": [
    "## Naive Algorithm "
   ]
  },
  {
   "cell_type": "code",
   "execution_count": 26,
   "metadata": {
    "colab": {},
    "colab_type": "code",
    "id": "fz778YA6VMLF"
   },
   "outputs": [
    {
     "data": {
      "text/plain": [
       "GridSearchCV(cv=5, error_score=nan,\n",
       "             estimator=DummyClassifier(constant=None, random_state=123,\n",
       "                                       strategy='stratified'),\n",
       "             iid='deprecated', n_jobs=None, param_grid={},\n",
       "             pre_dispatch='2*n_jobs', refit=True, return_train_score=True,\n",
       "             scoring=None, verbose=0)"
      ]
     },
     "execution_count": 26,
     "metadata": {},
     "output_type": "execute_result"
    }
   ],
   "source": [
    "from sklearn.dummy import DummyClassifier\n",
    "from sklearn.model_selection import cross_val_score\n",
    "model_dummy = DummyClassifier(strategy='stratified',random_state=123)\n",
    "model_dummy.fit(X_train,y_train)\n",
    "cv_scores_naive = cross_val_score(model_dummy, X_train, y_train,scoring='roc_auc')\n",
    "param_grid={}\n",
    "grid_naive = GridSearchCV(model_dummy, param_grid, cv=5, return_train_score=True)\n",
    "grid_naive.fit(X_train, y_train)\n"
   ]
  },
  {
   "cell_type": "code",
   "execution_count": 27,
   "metadata": {
    "colab": {},
    "colab_type": "code",
    "id": "QspbnQAnVMLH"
   },
   "outputs": [
    {
     "name": "stdout",
     "output_type": "stream",
     "text": [
      "train score:  0.6912034910427194\n",
      "test score:  0.6839687643546164\n",
      "Best parameters: {}\n",
      "Best cross-validation score: 0.6851\n"
     ]
    }
   ],
   "source": [
    "print('train score: ', grid_naive.score(X_train, y_train))\n",
    "print('test score: ', grid_naive.score(X_test, y_test))\n",
    "#print(f'Validation score is {grid_search.score(X_val,y_val)}')\n",
    "print(\"Best parameters: {}\".format(grid_naive.best_params_))\n",
    "print(\"Best cross-validation score: {:.4f}\".format(grid_naive.best_score_))"
   ]
  },
  {
   "cell_type": "markdown",
   "metadata": {
    "colab_type": "text",
    "id": "DIQ0fZ6WVMLJ"
   },
   "source": [
    "## Logistic Regression"
   ]
  },
  {
   "cell_type": "code",
   "execution_count": 28,
   "metadata": {
    "ExecuteTime": {
     "end_time": "2020-03-09T07:31:56.351050Z",
     "start_time": "2020-03-09T07:31:56.106884Z"
    },
    "colab": {},
    "colab_type": "code",
    "id": "Lq8bDOO7VMLJ"
   },
   "outputs": [],
   "source": [
    "# Train a logistic regression model, report the coefficients and model performance \n",
    "\n",
    "# YOUR CODE HERE\n",
    "from sklearn.linear_model import LogisticRegression\n",
    "from sklearn.model_selection import cross_val_score\n",
    "\n",
    "clf = LogisticRegression(max_iter=1000).fit(X_train, y_train)\n",
    "\n",
    "cv_scores = cross_val_score(clf, X_train, y_train, cv=10,scoring='roc_auc')\n",
    "\n"
   ]
  },
  {
   "cell_type": "code",
   "execution_count": 29,
   "metadata": {
    "colab": {},
    "colab_type": "code",
    "id": "xJPTPX1qVMLN"
   },
   "outputs": [
    {
     "name": "stdout",
     "output_type": "stream",
     "text": [
      "Mean Cross-validation scores: 0.7199978225051314\n",
      "\n",
      "Logistic.coef_: [[ 0.46276333 -0.00501577  0.01886077  0.11080961  0.22128062  0.59711275\n",
      "  -0.25958811  0.21770702  0.35656298 -0.00277385 -0.75478205 -0.03406936\n",
      "   0.01434774 -0.01513656  0.14353585  0.07778648  0.16965617 -0.04715006\n",
      "  -0.06322817 -0.30178104  0.07462318  0.03506917  0.03506917  0.03506917\n",
      "   0.03506917  0.03506917]]\n",
      "Logistic.intercept_: [-1.60226594]\n",
      "Logistic Performance:  0.8194763435920992\n"
     ]
    }
   ],
   "source": [
    "# Mean Cross validation Score\n",
    "print(\"Mean Cross-validation scores: {}\".format(cv_scores.mean()))\n",
    "print()\n",
    "\n",
    "# Print Co-efficients\n",
    "print(\"Logistic.coef_:\", clf.coef_)\n",
    "print(\"Logistic.intercept_:\", clf.intercept_)\n",
    "\n",
    "# Check test data set performance\n",
    "print(\"Logistic Performance: \", clf.score(X_test,y_test))\n",
    "\n"
   ]
  },
  {
   "cell_type": "markdown",
   "metadata": {
    "colab_type": "text",
    "id": "_VmFVmqsVMLQ"
   },
   "source": [
    "## Penalized logistic regression "
   ]
  },
  {
   "cell_type": "code",
   "execution_count": 30,
   "metadata": {
    "colab": {},
    "colab_type": "code",
    "id": "ejIN_GTgVMLR"
   },
   "outputs": [
    {
     "data": {
      "text/plain": [
       "GridSearchCV(cv=10, error_score=nan,\n",
       "             estimator=LogisticRegression(C=1.0, class_weight=None, dual=False,\n",
       "                                          fit_intercept=True,\n",
       "                                          intercept_scaling=1, l1_ratio=None,\n",
       "                                          max_iter=100, multi_class='auto',\n",
       "                                          n_jobs=None, penalty='l2',\n",
       "                                          random_state=None, solver='lbfgs',\n",
       "                                          tol=0.0001, verbose=0,\n",
       "                                          warm_start=False),\n",
       "             iid='deprecated', n_jobs=None,\n",
       "             param_grid={'C': [1, 2, 3, 10, 100], 'penalty': ['l1', 'l2']},\n",
       "             pre_dispatch='2*n_jobs', refit=True, return_train_score=True,\n",
       "             scoring='roc_auc', verbose=0)"
      ]
     },
     "execution_count": 30,
     "metadata": {},
     "output_type": "execute_result"
    }
   ],
   "source": [
    "from sklearn.model_selection import GridSearchCV\n",
    "param_lr = {'C': [1,2,3,10,100],'penalty':['l1', 'l2']}\n",
    "\n",
    "grid_PLR = GridSearchCV(LogisticRegression(), param_lr, cv=10,\n",
    "                          return_train_score=True, scoring = 'roc_auc')\n",
    "grid_PLR.fit(X_train, y_train)\n",
    "\n"
   ]
  },
  {
   "cell_type": "code",
   "execution_count": 31,
   "metadata": {
    "colab": {},
    "colab_type": "code",
    "id": "W-i55jcoVMLS"
   },
   "outputs": [
    {
     "name": "stdout",
     "output_type": "stream",
     "text": [
      "train score:  0.7242866956452128\n",
      "test score:  0.7277115545472094\n",
      "Best parameters: {'C': 1, 'penalty': 'l2'}\n",
      "Best cross-validation score: 0.7200\n"
     ]
    }
   ],
   "source": [
    "print('train score: ', grid_PLR.score(X_train, y_train))\n",
    "print('test score: ', grid_PLR.score(X_test, y_test))\n",
    "#print(f'Validation score is {grid_search.score(X_val,y_val)}')\n",
    "print(\"Best parameters: {}\".format(grid_PLR.best_params_))\n",
    "print(\"Best cross-validation score: {:.4f}\".format(grid_PLR.best_score_))"
   ]
  },
  {
   "cell_type": "markdown",
   "metadata": {
    "colab_type": "text",
    "id": "62uAobwoVMLV"
   },
   "source": [
    "## KNN"
   ]
  },
  {
   "cell_type": "code",
   "execution_count": 32,
   "metadata": {
    "ExecuteTime": {
     "end_time": "2020-03-09T07:32:06.690269Z",
     "start_time": "2020-03-09T07:32:01.476567Z"
    },
    "colab": {},
    "colab_type": "code",
    "id": "XxjQ8IexVMLV"
   },
   "outputs": [
    {
     "data": {
      "text/plain": [
       "GridSearchCV(cv=5, error_score=nan,\n",
       "             estimator=KNeighborsClassifier(algorithm='auto', leaf_size=30,\n",
       "                                            metric='minkowski',\n",
       "                                            metric_params=None, n_jobs=None,\n",
       "                                            n_neighbors=5, p=2,\n",
       "                                            weights='uniform'),\n",
       "             iid='deprecated', n_jobs=None,\n",
       "             param_grid={'n_neighbors': range(1, 5)}, pre_dispatch='2*n_jobs',\n",
       "             refit=True, return_train_score=True, scoring='roc_auc', verbose=0)"
      ]
     },
     "execution_count": 32,
     "metadata": {},
     "output_type": "execute_result"
    }
   ],
   "source": [
    "# Train a KNN model, report the coefficients, the best parameters, and model performance \n",
    "# hint: find the optimal k\n",
    "\n",
    "# YOUR CODE HERE\n",
    "\n",
    "from sklearn.model_selection import GridSearchCV\n",
    "from sklearn.neighbors import KNeighborsClassifier\n",
    "\n",
    "knn = KNeighborsClassifier()\n",
    "\n",
    "# define a list of parameters\n",
    "\n",
    "param_knn = {'n_neighbors': range(1,5)}\n",
    "\n",
    "#apply grid search\n",
    "grid_knn = GridSearchCV(knn, param_knn, cv=5, return_train_score=True, scoring = 'roc_auc')\n",
    "grid_knn.fit(X_train, y_train)\n",
    "\n"
   ]
  },
  {
   "cell_type": "code",
   "execution_count": 33,
   "metadata": {
    "colab": {},
    "colab_type": "code",
    "id": "7D00KwNhVMLX"
   },
   "outputs": [
    {
     "name": "stdout",
     "output_type": "stream",
     "text": [
      "Best Mean Cross-validation score: 0.66\n",
      "\n",
      "KNN parameters:  {'n_neighbors': 4}\n",
      "KNN Test Performance:  0.6690128433591357\n"
     ]
    }
   ],
   "source": [
    "# Mean Cross Validation Score\n",
    "print(\"Best Mean Cross-validation score: {:.2f}\".format(grid_knn.best_score_))\n",
    "print()\n",
    "\n",
    "#find best parameters\n",
    "print('KNN parameters: ', grid_knn.best_params_)\n",
    "\n",
    "# Check test data set performance\n",
    "print(\"KNN Test Performance: \", grid_knn.score(X_test,y_test))\n",
    "\n",
    "#print(f'Validation score is {grid_knn.score(X_val,y_val)}')"
   ]
  },
  {
   "cell_type": "markdown",
   "metadata": {
    "colab_type": "text",
    "id": "4Tt4_Ch9VMLY"
   },
   "source": [
    "## Decision Tree model"
   ]
  },
  {
   "cell_type": "code",
   "execution_count": 34,
   "metadata": {
    "ExecuteTime": {
     "end_time": "2020-03-09T07:32:10.538012Z",
     "start_time": "2020-03-09T07:32:09.841119Z"
    },
    "colab": {},
    "colab_type": "code",
    "id": "5NzDlEdyVMLZ"
   },
   "outputs": [
    {
     "data": {
      "text/plain": [
       "GridSearchCV(cv=10, error_score=nan,\n",
       "             estimator=DecisionTreeClassifier(ccp_alpha=0.0, class_weight=None,\n",
       "                                              criterion='gini', max_depth=None,\n",
       "                                              max_features=None,\n",
       "                                              max_leaf_nodes=None,\n",
       "                                              min_impurity_decrease=0.0,\n",
       "                                              min_impurity_split=None,\n",
       "                                              min_samples_leaf=1,\n",
       "                                              min_samples_split=2,\n",
       "                                              min_weight_fraction_leaf=0.0,\n",
       "                                              presort='deprecated',\n",
       "                                              random_state=0, splitter='best'),\n",
       "             iid='deprecated', n_jobs=None,\n",
       "             param_grid={'max_depth': range(1, 20)}, pre_dispatch='2*n_jobs',\n",
       "             refit=True, return_train_score=True, scoring='roc_auc', verbose=0)"
      ]
     },
     "execution_count": 34,
     "metadata": {},
     "output_type": "execute_result"
    }
   ],
   "source": [
    "# Train a Decision Tree model, report the coefficients, the best parameters, and model performance (10 points)\n",
    "# hint: find the optimal max_depth\n",
    "\n",
    "# YOUR CODE HERE\n",
    "from sklearn.model_selection import GridSearchCV\n",
    "from sklearn.tree import DecisionTreeClassifier\n",
    "dtree = DecisionTreeClassifier(random_state=0)\n",
    "\n",
    "#define a list of parameters\n",
    "param_dtree = {'max_depth': range(1,20)}\n",
    "\n",
    "#apply grid search\n",
    "grid_dtree = GridSearchCV(dtree, param_dtree, cv=10, return_train_score = True, scoring = 'roc_auc')\n",
    "grid_dtree.fit(X_train, y_train)\n",
    "\n"
   ]
  },
  {
   "cell_type": "code",
   "execution_count": 35,
   "metadata": {
    "colab": {},
    "colab_type": "code",
    "id": "GVoHXwovVMLc"
   },
   "outputs": [
    {
     "name": "stdout",
     "output_type": "stream",
     "text": [
      "Best Mean Cross-validation score: 0.7108\n",
      "\n",
      "Decision Tree parameters:  {'max_depth': 4}\n",
      "Decision Tree Performance:  0.7242433577559524\n",
      "Decision Tree Performance:  0.7295026590313348\n"
     ]
    }
   ],
   "source": [
    "# Mean Cross Validation Score\n",
    "print(\"Best Mean Cross-validation score: {:.4f}\".format(grid_dtree.best_score_))\n",
    "print()\n",
    "\n",
    "#find best parameters\n",
    "print('Decision Tree parameters: ', grid_dtree.best_params_)\n",
    "\n",
    "# Check test data set performance\n",
    "print(\"Decision Tree Performance: \", grid_dtree.score(X_train,y_train))\n",
    "\n",
    "# Check test data set performance\n",
    "print(\"Decision Tree Performance: \", grid_dtree.score(X_test,y_test))\n"
   ]
  },
  {
   "cell_type": "markdown",
   "metadata": {
    "colab_type": "text",
    "id": "hnT-uWeeVMLj"
   },
   "source": [
    "# Ensemble Models"
   ]
  },
  {
   "cell_type": "markdown",
   "metadata": {
    "colab_type": "text",
    "id": "p-ASm9KtVMLl"
   },
   "source": [
    "## Random forest"
   ]
  },
  {
   "cell_type": "code",
   "execution_count": 37,
   "metadata": {
    "colab": {},
    "colab_type": "code",
    "id": "HlQjf9SxVMLl"
   },
   "outputs": [
    {
     "data": {
      "text/plain": [
       "GridSearchCV(cv=10, error_score=nan,\n",
       "             estimator=RandomForestClassifier(bootstrap=True, ccp_alpha=0.0,\n",
       "                                              class_weight=None,\n",
       "                                              criterion='gini', max_depth=None,\n",
       "                                              max_features='auto',\n",
       "                                              max_leaf_nodes=None,\n",
       "                                              max_samples=None,\n",
       "                                              min_impurity_decrease=0.0,\n",
       "                                              min_impurity_split=None,\n",
       "                                              min_samples_leaf=1,\n",
       "                                              min_samples_split=2,\n",
       "                                              min_weight_fraction_leaf=0.0,\n",
       "                                              n_estimators=100, n_jobs=None,\n",
       "                                              oob_score=False, random_state=42,\n",
       "                                              verbose=0, warm_start=False),\n",
       "             iid='deprecated', n_jobs=None,\n",
       "             param_grid={'criterion': ['gini', 'entropy'],\n",
       "                         'max_depth': [8, 10, 12, 14, 16, 18],\n",
       "                         'max_features': ['auto', 'sqrt', 'log2'],\n",
       "                         'n_estimators': [700, 800, 900, 1000]},\n",
       "             pre_dispatch='2*n_jobs', refit=True, return_train_score=True,\n",
       "             scoring='roc_auc', verbose=0)"
      ]
     },
     "execution_count": 37,
     "metadata": {},
     "output_type": "execute_result"
    }
   ],
   "source": [
    "from sklearn.ensemble import RandomForestClassifier\n",
    "rfc =RandomForestClassifier(random_state=42)\n",
    "rfc_param = { \n",
    "    'n_estimators': [700,800,900, 1000],\n",
    "    'max_features': ['auto', 'sqrt', 'log2'],\n",
    "    'max_depth' : [8,10,12,14,16,18],\n",
    "    'criterion' :['gini', 'entropy']\n",
    "}\n",
    "\n",
    "rfc_grid = GridSearchCV(rfc, rfc_param,cv=10, return_train_score=True,scoring = 'roc_auc' )\n",
    "rfc_grid.fit(X_train,y_train)"
   ]
  },
  {
   "cell_type": "code",
   "execution_count": 38,
   "metadata": {
    "colab": {},
    "colab_type": "code",
    "id": "3wx1Wz3-VMLn"
   },
   "outputs": [
    {
     "name": "stdout",
     "output_type": "stream",
     "text": [
      "Best Mean Cross Validation Score is 0.7375286858793372\n",
      "Best Mean Cross Validation Score is {'criterion': 'gini', 'max_depth': 14, 'max_features': 'auto', 'n_estimators': 900}\n",
      "Train score is 0.9099153653773854\n",
      "Test score is 0.7576686687498776\n"
     ]
    }
   ],
   "source": [
    "print(f'Best Mean Cross Validation Score is {rfc_grid.best_score_}')\n",
    "print(f'Best Mean Cross Validation Score is {rfc_grid.best_params_}')\n",
    "print(f'Train score is {rfc_grid.score(X_train,y_train)}')\n",
    "print(f'Test score is {rfc_grid.score(X_test,y_test)}')\n"
   ]
  },
  {
   "cell_type": "markdown",
   "metadata": {
    "colab_type": "text",
    "id": "BdVvIc8kVMLp"
   },
   "source": [
    "## Extra-Trees"
   ]
  },
  {
   "cell_type": "code",
   "execution_count": 39,
   "metadata": {
    "colab": {},
    "colab_type": "code",
    "id": "d8m4WAuyVMLq"
   },
   "outputs": [],
   "source": [
    "from  sklearn.ensemble import ExtraTreesClassifier"
   ]
  },
  {
   "cell_type": "code",
   "execution_count": 40,
   "metadata": {
    "colab": {},
    "colab_type": "code",
    "id": "vtAMu-CfVMLs"
   },
   "outputs": [
    {
     "data": {
      "text/plain": [
       "GridSearchCV(cv=5, error_score=nan,\n",
       "             estimator=ExtraTreesClassifier(bootstrap=False, ccp_alpha=0.0,\n",
       "                                            class_weight=None, criterion='gini',\n",
       "                                            max_depth=None, max_features='auto',\n",
       "                                            max_leaf_nodes=None,\n",
       "                                            max_samples=None,\n",
       "                                            min_impurity_decrease=0.0,\n",
       "                                            min_impurity_split=None,\n",
       "                                            min_samples_leaf=1,\n",
       "                                            min_samples_split=2,\n",
       "                                            min_weight_fraction_leaf=0.0,\n",
       "                                            n_estimators=100, n_jobs=None,\n",
       "                                            oob_score=False, random_state=42,\n",
       "                                            verbose=0, warm_start=False),\n",
       "             iid='deprecated', n_jobs=None,\n",
       "             param_grid={'criterion': ['gini', 'entropy'],\n",
       "                         'max_depth': [2, 4, 5, 6, 7, 8],\n",
       "                         'max_features': ['auto', 'sqrt', 'log2'],\n",
       "                         'n_estimators': [200, 500]},\n",
       "             pre_dispatch='2*n_jobs', refit=True, return_train_score=True,\n",
       "             scoring='roc_auc', verbose=0)"
      ]
     },
     "execution_count": 40,
     "metadata": {},
     "output_type": "execute_result"
    }
   ],
   "source": [
    "etc= ExtraTreesClassifier(random_state=42)\n",
    "etc_param = { \n",
    "    'n_estimators': [200, 500],\n",
    "    'max_features': ['auto', 'sqrt', 'log2'],\n",
    "    'max_depth' : [2,4,5,6,7,8],\n",
    "    'criterion' :['gini', 'entropy']\n",
    "}\n",
    "etc_grid = GridSearchCV(etc, etc_param,cv=5, return_train_score=True,scoring = 'roc_auc' )\n",
    "etc_grid.fit(X_train,y_train)"
   ]
  },
  {
   "cell_type": "code",
   "execution_count": 41,
   "metadata": {
    "colab": {},
    "colab_type": "code",
    "id": "X5iyCWErVMLu"
   },
   "outputs": [
    {
     "name": "stdout",
     "output_type": "stream",
     "text": [
      "Best Mean Cross Validation Score is 0.7234589841135926\n",
      "Best Mean Cross Validation Score is {'criterion': 'entropy', 'max_depth': 8, 'max_features': 'auto', 'n_estimators': 500}\n",
      "Train score is 0.7598810177949397\n",
      "Test score is 0.7413326209013011\n"
     ]
    }
   ],
   "source": [
    "print(f'Best Mean Cross Validation Score is {etc_grid.best_score_}')\n",
    "print(f'Best Mean Cross Validation Score is {etc_grid.best_params_}')\n",
    "print(f'Train score is {etc_grid.score(X_train,y_train)}')\n",
    "print(f'Test score is {etc_grid.score(X_test,y_test)}')\n",
    "#print(f'Val score is {etc_grid.score(X_val,y_val)}')"
   ]
  },
  {
   "cell_type": "markdown",
   "metadata": {
    "colab_type": "text",
    "id": "odqRkNbdVMLw"
   },
   "source": [
    "## Gradient Boost¶"
   ]
  },
  {
   "cell_type": "code",
   "execution_count": 42,
   "metadata": {
    "colab": {},
    "colab_type": "code",
    "id": "fXomjDu0VMLw"
   },
   "outputs": [
    {
     "data": {
      "text/plain": [
       "GridSearchCV(cv=5, error_score=nan,\n",
       "             estimator=GradientBoostingClassifier(ccp_alpha=0.0,\n",
       "                                                  criterion='friedman_mse',\n",
       "                                                  init=None, learning_rate=0.1,\n",
       "                                                  loss='deviance', max_depth=3,\n",
       "                                                  max_features=None,\n",
       "                                                  max_leaf_nodes=None,\n",
       "                                                  min_impurity_decrease=0.0,\n",
       "                                                  min_impurity_split=None,\n",
       "                                                  min_samples_leaf=1,\n",
       "                                                  min_samples_split=2,\n",
       "                                                  min_weight_fraction_leaf=0.0,\n",
       "                                                  n_estimators=100,\n",
       "                                                  n_iter_no_change=None,\n",
       "                                                  presort='deprecated',\n",
       "                                                  random_state=42,\n",
       "                                                  subsample=1.0, tol=0.0001,\n",
       "                                                  validation_fraction=0.1,\n",
       "                                                  verbose=0, warm_start=False),\n",
       "             iid='deprecated', n_jobs=None,\n",
       "             param_grid={'learning_rate': [0.5, 1.0, 2], 'max_depth': [2, 3, 4],\n",
       "                         'n_estimators': [100, 150]},\n",
       "             pre_dispatch='2*n_jobs', refit=True, return_train_score=True,\n",
       "             scoring='roc_auc', verbose=0)"
      ]
     },
     "execution_count": 42,
     "metadata": {},
     "output_type": "execute_result"
    }
   ],
   "source": [
    "from  sklearn.ensemble import GradientBoostingClassifier\n",
    "gbc= GradientBoostingClassifier(random_state=42)\n",
    "gbc_param = {\n",
    "              'max_depth' : [2,3,4],\n",
    "              'n_estimators' : [100,150],\n",
    "              'learning_rate' : [0.5,1.0,2],\n",
    "             }\n",
    "gbc_grid = GridSearchCV(gbc, gbc_param,cv=5, return_train_score=True, scoring = 'roc_auc')\n",
    "gbc_grid.fit(X_train,y_train)"
   ]
  },
  {
   "cell_type": "code",
   "execution_count": 43,
   "metadata": {
    "colab": {},
    "colab_type": "code",
    "id": "v9JOzPwVVMLy"
   },
   "outputs": [
    {
     "name": "stdout",
     "output_type": "stream",
     "text": [
      "Best Mean Cross Validation Score is 0.7235263261646694\n",
      "Best Mean Cross Validation Score is {'learning_rate': 0.5, 'max_depth': 2, 'n_estimators': 100}\n",
      "Train score is 0.7731616499078127\n",
      "Test score is 0.7321393103023827\n"
     ]
    }
   ],
   "source": [
    "print(f'Best Mean Cross Validation Score is {gbc_grid.best_score_}')\n",
    "print(f'Best Mean Cross Validation Score is {gbc_grid.best_params_}')\n",
    "print(f'Train score is {gbc_grid.score(X_train,y_train)}')\n",
    "print(f'Test score is {gbc_grid.score(X_test,y_test)}')\n",
    "#print(f'Val score is {gbc_grid.score(X_val,y_val)}')"
   ]
  },
  {
   "cell_type": "markdown",
   "metadata": {
    "colab_type": "text",
    "id": "vz2qcbGbVML0"
   },
   "source": [
    "## XGBoost"
   ]
  },
  {
   "cell_type": "code",
   "execution_count": 44,
   "metadata": {
    "colab": {},
    "colab_type": "code",
    "id": "TYGOvqd1VML0"
   },
   "outputs": [],
   "source": [
    "from xgboost import XGBClassifier"
   ]
  },
  {
   "cell_type": "code",
   "execution_count": 45,
   "metadata": {
    "colab": {},
    "colab_type": "code",
    "id": "nDaEuR9GVML2"
   },
   "outputs": [
    {
     "data": {
      "text/plain": [
       "GridSearchCV(cv=5, error_score=nan,\n",
       "             estimator=XGBClassifier(base_score=None, booster=None,\n",
       "                                     colsample_bylevel=None,\n",
       "                                     colsample_bynode=None,\n",
       "                                     colsample_bytree=None,\n",
       "                                     early_stopping_rounds=2, gamma=None,\n",
       "                                     gpu_id=None, importance_type='gain',\n",
       "                                     interaction_constraints=None,\n",
       "                                     learning_rate=None, max_delta_step=None,\n",
       "                                     max_depth=None, min_child_weight=None,\n",
       "                                     missing=nan, monotone_...\n",
       "                                     reg_lambda=None, scale_pos_weight=None,\n",
       "                                     subsample=None, tree_method=None,\n",
       "                                     validate_parameters=False,\n",
       "                                     verbosity=None),\n",
       "             iid='deprecated', n_jobs=None,\n",
       "             param_grid={'learning_rate': [0.1, 0.5, 0.6, 0.8],\n",
       "                         'max_depth': [4, 6, 8],\n",
       "                         'min_child_weight': [1, 3, 5, 7],\n",
       "                         'n_estimators': [40, 50, 100],\n",
       "                         'subsample': [0.6, 0.7, 0.8, 0.9, 1]},\n",
       "             pre_dispatch='2*n_jobs', refit=True, return_train_score=True,\n",
       "             scoring='roc_auc', verbose=0)"
      ]
     },
     "execution_count": 45,
     "metadata": {},
     "output_type": "execute_result"
    }
   ],
   "source": [
    "from  xgboost import XGBClassifier\n",
    "xgbc= XGBClassifier(random_state=42,early_stopping_rounds=2,objective= 'binary:logistic')\n",
    "xgbc_param = {\n",
    "              'max_depth' : [4,6,8],\n",
    "              'n_estimators' : [40,50,100],\n",
    "              'learning_rate' : [0.1,0.5,0.6,0.8],\n",
    "               'min_child_weight' : [1,3,5,7],\n",
    "                'subsample':[0.6,0.7,0.8,0.9,1]\n",
    "             }\n",
    "xgbc_grid = GridSearchCV(xgbc, xgbc_param,cv=5, return_train_score=True,scoring = 'roc_auc' )\n",
    "xgbc_grid.fit(X_train,y_train)"
   ]
  },
  {
   "cell_type": "code",
   "execution_count": 46,
   "metadata": {
    "colab": {},
    "colab_type": "code",
    "id": "ED9tAVWxVML3"
   },
   "outputs": [
    {
     "name": "stdout",
     "output_type": "stream",
     "text": [
      "Best Mean Cross Validation Score is 0.7335759709574361\n",
      "Best Mean Cross Validation Score is {'learning_rate': 0.1, 'max_depth': 6, 'min_child_weight': 5, 'n_estimators': 50, 'subsample': 0.7}\n",
      "Train score is 0.7894659590100688\n",
      "Test score is 0.739840849771024\n"
     ]
    }
   ],
   "source": [
    "print(f'Best Mean Cross Validation Score is {xgbc_grid.best_score_}')\n",
    "print(f'Best Mean Cross Validation Score is {xgbc_grid.best_params_}')\n",
    "print(f'Train score is {xgbc_grid.score(X_train,y_train)}')\n",
    "print(f'Test score is {xgbc_grid.score(X_test,y_test)}')\n",
    "#print(f'Val score is {xgbc_grid.score(X_val,y_val)}')"
   ]
  },
  {
   "cell_type": "markdown",
   "metadata": {
    "colab_type": "text",
    "id": "fNbdsj5xVMML"
   },
   "source": [
    "# Cost Sensitive Algorithms"
   ]
  },
  {
   "cell_type": "code",
   "execution_count": 47,
   "metadata": {
    "colab": {},
    "colab_type": "code",
    "id": "i6IkXn6EVMMM"
   },
   "outputs": [
    {
     "name": "stdout",
     "output_type": "stream",
     "text": [
      "Requirement already satisfied: xgboost in c:\\users\\aman\\ana\\lib\\site-packages (1.0.2)\n",
      "Requirement already satisfied: numpy in c:\\users\\aman\\ana\\lib\\site-packages (from xgboost) (1.16.5)\n",
      "Requirement already satisfied: scipy in c:\\users\\aman\\ana\\lib\\site-packages (from xgboost) (1.4.1)\n",
      "Note: you may need to restart the kernel to use updated packages.\n"
     ]
    }
   ],
   "source": [
    "pip install xgboost"
   ]
  },
  {
   "cell_type": "code",
   "execution_count": 48,
   "metadata": {
    "colab": {},
    "colab_type": "code",
    "id": "kvF_STzpVMMN"
   },
   "outputs": [],
   "source": [
    "from numpy import mean\n",
    "from sklearn.datasets import make_classification\n",
    "from sklearn.model_selection import GridSearchCV\n",
    "from sklearn.model_selection import RepeatedStratifiedKFold\n",
    "from sklearn.linear_model import LogisticRegression\n",
    "from sklearn.tree import DecisionTreeClassifier\n",
    "from sklearn.svm import SVC\n",
    "from sklearn.model_selection import cross_val_score\n",
    "from xgboost import XGBClassifier"
   ]
  },
  {
   "cell_type": "markdown",
   "metadata": {
    "colab_type": "text",
    "id": "iBFG6j5mVMMP"
   },
   "source": [
    "## logistic regession"
   ]
  },
  {
   "cell_type": "code",
   "execution_count": 49,
   "metadata": {
    "colab": {},
    "colab_type": "code",
    "id": "4Il7uq5aVMMP"
   },
   "outputs": [
    {
     "name": "stdout",
     "output_type": "stream",
     "text": [
      "Best parameters: {'class_weight': {0: 1, 1: 10}}\n",
      "Best Mean cross-validation score: 0.72\n"
     ]
    }
   ],
   "source": [
    "#cost sensitive logistic regession\n",
    "param_grid = {\n",
    "'class_weight': [{0:100,1:1}, {0:10,1:1}, {0:1,1:1}, {0:1,1:10}, {0:1,1:100}],\n",
    "}\n",
    "#apply grid search\n",
    "cgrid_logreg= GridSearchCV(LogisticRegression(solver='lbfgs'), param_grid, cv=5, n_jobs=-1, scoring='roc_auc')\n",
    "cgrid_logreg.fit(X_train, y_train)\n",
    "print(\"Best parameters: {}\".format(cgrid_logreg.best_params_))\n",
    "print(\"Best Mean cross-validation score: {:.2f}\".format(cgrid_logreg.best_score_))"
   ]
  },
  {
   "cell_type": "markdown",
   "metadata": {
    "colab_type": "text",
    "id": "_ZhtEclyVMMS"
   },
   "source": [
    "## Decision Tree"
   ]
  },
  {
   "cell_type": "code",
   "execution_count": 50,
   "metadata": {
    "colab": {},
    "colab_type": "code",
    "id": "xqHaTDQmVMMS"
   },
   "outputs": [
    {
     "name": "stdout",
     "output_type": "stream",
     "text": [
      "Best parameters: {'class_weight': {0: 10, 1: 1}}\n",
      "Best Mean cross-validation score: 0.60\n"
     ]
    }
   ],
   "source": [
    "#decison tree\n",
    "param_grid = {\n",
    "'class_weight': [{0:100,1:1}, {0:10,1:1}, {0:1,1:1}, {0:1,1:10}, {0:1,1:100}],\n",
    "}\n",
    "#apply grid search\n",
    "cgrid_dtree= GridSearchCV(DecisionTreeClassifier(), param_grid, cv=5, n_jobs=2, scoring='roc_auc')\n",
    "cgrid_dtree.fit(X_train, y_train)\n",
    "print(\"Best parameters: {}\".format(cgrid_dtree.best_params_))\n",
    "print(\"Best Mean cross-validation score: {:.2f}\".format(cgrid_dtree.best_score_))"
   ]
  },
  {
   "cell_type": "markdown",
   "metadata": {
    "colab_type": "text",
    "id": "Urga71_VVMMU"
   },
   "source": [
    "## XGB"
   ]
  },
  {
   "cell_type": "code",
   "execution_count": 51,
   "metadata": {
    "colab": {},
    "colab_type": "code",
    "id": "znuizKnIVMMV"
   },
   "outputs": [
    {
     "name": "stdout",
     "output_type": "stream",
     "text": [
      "Best parameters: {'scale_pos_weight': 1}\n",
      "Best Mean cross-validation score: 0.71\n"
     ]
    }
   ],
   "source": [
    "#xgb\n",
    "param_grid = {\n",
    "'scale_pos_weight': [1, 10, 25, 50, 75, 99, 100, 1000],\n",
    "}\n",
    "#apply grid search\n",
    "cgrid_xgboost= GridSearchCV(XGBClassifier(), param_grid, cv=5, n_jobs=2, scoring='roc_auc')\n",
    "cgrid_xgboost.fit(X_train, y_train)\n",
    "print(\"Best parameters: {}\".format(cgrid_xgboost.best_params_))\n",
    "print(\"Best Mean cross-validation score: {:.2f}\".format(cgrid_xgboost.best_score_))"
   ]
  },
  {
   "cell_type": "markdown",
   "metadata": {
    "colab_type": "text",
    "id": "YgmOy02eVMMW"
   },
   "source": [
    "## Random Forest"
   ]
  },
  {
   "cell_type": "code",
   "execution_count": 52,
   "metadata": {
    "colab": {},
    "colab_type": "code",
    "id": "iluXuQt_VMMW"
   },
   "outputs": [
    {
     "name": "stdout",
     "output_type": "stream",
     "text": [
      "Mean ROC AUC: 0.686\n"
     ]
    }
   ],
   "source": [
    "#random forest\n",
    "from sklearn.model_selection import RepeatedStratifiedKFold\n",
    "rf = RandomForestClassifier(n_estimators=100, class_weight='balanced')\n",
    "cv = RepeatedStratifiedKFold(n_splits=10, n_repeats=3, random_state=1)\n",
    "scores = cross_val_score(rf, X_train, y_train, scoring='roc_auc', cv=cv, n_jobs=-1)\n",
    "print('Mean ROC AUC: %.3f' % scores.mean())\n",
    "\n"
   ]
  },
  {
   "cell_type": "markdown",
   "metadata": {
    "colab_type": "text",
    "id": "CSTWmY_rVMMX"
   },
   "source": [
    "## Extra Trees"
   ]
  },
  {
   "cell_type": "code",
   "execution_count": 53,
   "metadata": {
    "colab": {},
    "colab_type": "code",
    "id": "UXCILSMGVMMY"
   },
   "outputs": [
    {
     "name": "stdout",
     "output_type": "stream",
     "text": [
      "Mean ROC AUC: 0.673\n"
     ]
    }
   ],
   "source": [
    "#extratrees\n",
    "rf = ExtraTreesClassifier(n_estimators=50, class_weight='balanced')\n",
    "cv = RepeatedStratifiedKFold(n_splits=10, n_repeats=3, random_state=1)\n",
    "scores = cross_val_score(rf, X_train, y_train, scoring='roc_auc', cv=cv, n_jobs=-1)\n",
    "print('Mean ROC AUC: %.3f' % scores.mean())"
   ]
  },
  {
   "cell_type": "markdown",
   "metadata": {
    "colab_type": "text",
    "id": "t6maeVViVMMZ"
   },
   "source": [
    "## Bagging Decision Tree"
   ]
  },
  {
   "cell_type": "code",
   "execution_count": 54,
   "metadata": {
    "colab": {},
    "colab_type": "code",
    "id": "Xj76jktWVMMZ"
   },
   "outputs": [
    {
     "name": "stderr",
     "output_type": "stream",
     "text": [
      "Using TensorFlow backend.\n"
     ]
    },
    {
     "name": "stdout",
     "output_type": "stream",
     "text": [
      "Mean ROC AUC: 0.698\n"
     ]
    }
   ],
   "source": [
    "#Bagging decision tree with under sampling\n",
    "from imblearn.ensemble import BalancedBaggingClassifier\n",
    "\n",
    "b_dtree = BalancedBaggingClassifier()\n",
    "\n",
    "cv = RepeatedStratifiedKFold(n_splits=10, n_repeats=3, random_state=1)\n",
    "\n",
    "scores = cross_val_score(b_dtree, X_train, y_train, scoring='roc_auc', cv=cv, n_jobs=-1)\n",
    "\n",
    "print('Mean ROC AUC: %.3f' % scores.mean())"
   ]
  },
  {
   "cell_type": "markdown",
   "metadata": {
    "colab_type": "text",
    "id": "KwzEjiDhVMMb"
   },
   "source": [
    "# Data Sampling Algorithms"
   ]
  },
  {
   "cell_type": "code",
   "execution_count": 55,
   "metadata": {
    "colab": {},
    "colab_type": "code",
    "id": "9bHPZGgjVMMb"
   },
   "outputs": [],
   "source": [
    "from imblearn.over_sampling import SMOTE\n",
    "from imblearn.pipeline import Pipeline"
   ]
  },
  {
   "cell_type": "markdown",
   "metadata": {
    "colab_type": "text",
    "id": "oSeGH4WiVMMc"
   },
   "source": [
    "## Decision tree"
   ]
  },
  {
   "cell_type": "code",
   "execution_count": 56,
   "metadata": {
    "colab": {},
    "colab_type": "code",
    "id": "tcmMMW5-VMMc"
   },
   "outputs": [
    {
     "name": "stdout",
     "output_type": "stream",
     "text": [
      "Best parameters: {'smote__k_neighbors': 3}\n",
      "Best Mean cross-validation score: 0.70\n"
     ]
    }
   ],
   "source": [
    "#decisiontreee\n",
    "pipe_roc_dtree = Pipeline([('smote',SMOTE()),('dtree',DecisionTreeClassifier(max_depth=5))])\n",
    "param_roc_dtree = {'smote__k_neighbors': [1,2,3,4,5]}\n",
    "ogrid_dtree= GridSearchCV(pipe_roc_dtree,param_roc_dtree, cv=5, n_jobs=2, scoring='roc_auc')\n",
    "ogrid_dtree.fit(X_train, y_train)\n",
    "print(\"Best parameters: {}\".format(ogrid_dtree.best_params_))\n",
    "print(\"Best Mean cross-validation score: {:.2f}\".format(ogrid_dtree.best_score_))"
   ]
  },
  {
   "cell_type": "markdown",
   "metadata": {
    "colab_type": "text",
    "id": "ERJwC1lqVMMd"
   },
   "source": [
    "## Logistic regression"
   ]
  },
  {
   "cell_type": "code",
   "execution_count": 57,
   "metadata": {
    "colab": {},
    "colab_type": "code",
    "id": "hZ9Gp-JMVMMe"
   },
   "outputs": [
    {
     "name": "stdout",
     "output_type": "stream",
     "text": [
      "Best parameters: {'smote__k_neighbors': 2}\n",
      "Best Mean cross-validation score: 0.7208\n"
     ]
    }
   ],
   "source": [
    "#logistic regression\n",
    "pipe_roc_lg = Pipeline([('smote',SMOTE()),('lg',LogisticRegression())])\n",
    "param_roc_lg = {'smote__k_neighbors': [1,2,3,4,5]}\n",
    "ogrid_lg= GridSearchCV(pipe_roc_lg,param_roc_lg, cv=5, n_jobs=2, scoring='roc_auc')\n",
    "ogrid_lg.fit(X_train, y_train)\n",
    "print(\"Best parameters: {}\".format(ogrid_lg.best_params_))\n",
    "print(\"Best Mean cross-validation score: {:.4f}\".format(ogrid_lg.best_score_))"
   ]
  },
  {
   "cell_type": "markdown",
   "metadata": {
    "colab_type": "text",
    "id": "7hK8s0AEVMMf"
   },
   "source": [
    "## Knn"
   ]
  },
  {
   "cell_type": "code",
   "execution_count": 58,
   "metadata": {
    "colab": {},
    "colab_type": "code",
    "id": "9HzdRCXTVMMf"
   },
   "outputs": [
    {
     "name": "stdout",
     "output_type": "stream",
     "text": [
      "Best parameters: {'smote__k_neighbors': 5}\n",
      "Best Mean cross-validation score: 0.68\n"
     ]
    }
   ],
   "source": [
    "#knn\n",
    "pipe_roc_knn = Pipeline([('smote',SMOTE()),('knn',KNeighborsClassifier(n_neighbors=6))])\n",
    "param_roc_knn = {'smote__k_neighbors': [1,2,3,4,5]}\n",
    "ogrid_knn= GridSearchCV(pipe_roc_knn,param_roc_knn, cv=5, n_jobs=2, scoring='roc_auc')\n",
    "ogrid_knn.fit(X_train, y_train)\n",
    "print(\"Best parameters: {}\".format(ogrid_knn.best_params_))\n",
    "print(\"Best Mean cross-validation score: {:.2f}\".format(ogrid_knn.best_score_))"
   ]
  },
  {
   "cell_type": "markdown",
   "metadata": {
    "colab_type": "text",
    "id": "yq_vWPCLVMMg"
   },
   "source": [
    "## SVM"
   ]
  },
  {
   "cell_type": "code",
   "execution_count": 59,
   "metadata": {
    "colab": {},
    "colab_type": "code",
    "id": "S62mb0fNVMMh"
   },
   "outputs": [
    {
     "name": "stdout",
     "output_type": "stream",
     "text": [
      "Best parameters: {'smote__k_neighbors': 2}\n",
      "Best Mean cross-validation score: 0.66\n"
     ]
    }
   ],
   "source": [
    "#svm\n",
    "pipe_roc_svm = Pipeline([('smote',SMOTE()),('svm',svm.SVC(C=10,gamma=0.1,kernel='rbf'))])\n",
    "param_roc_svm = {'smote__k_neighbors': [1,2,3,4,5]}\n",
    "ogrid_svm= GridSearchCV(pipe_roc_svm,param_roc_svm, cv=5, n_jobs=2, scoring='roc_auc')\n",
    "ogrid_svm.fit(X_train, y_train)\n",
    "print(\"Best parameters: {}\".format(ogrid_svm.best_params_))\n",
    "print(\"Best Mean cross-validation score: {:.2f}\".format(ogrid_svm.best_score_))"
   ]
  },
  {
   "cell_type": "markdown",
   "metadata": {
    "colab_type": "text",
    "id": "aPlx4cfAVMMi"
   },
   "source": [
    "## Randomforest"
   ]
  },
  {
   "cell_type": "code",
   "execution_count": 60,
   "metadata": {
    "colab": {},
    "colab_type": "code",
    "id": "ldzvJDiuVMMi"
   },
   "outputs": [
    {
     "name": "stdout",
     "output_type": "stream",
     "text": [
      "Best parameters: {'rf__max_depth': 5, 'smote__k_neighbors': 2}\n",
      "Best Mean cross-validation score: 0.72\n"
     ]
    }
   ],
   "source": [
    "#randomforest\n",
    "pipe_roc_rf = Pipeline([('smote',SMOTE()),('rf',RandomForestClassifier(n_estimators=50,criterion='gini',\n",
    "                                                                       max_features='auto'))])\n",
    "param_roc_rf = {'smote__k_neighbors': [1,2,3,4,5], \n",
    "                'rf__max_depth' : [4,5]}\n",
    "ogrid_rf= GridSearchCV(pipe_roc_rf,param_roc_rf, cv=5, n_jobs=2, scoring='roc_auc')\n",
    "ogrid_rf.fit(X_train, y_train)\n",
    "print(\"Best parameters: {}\".format(ogrid_rf.best_params_))\n",
    "print(\"Best Mean cross-validation score: {:.2f}\".format(ogrid_rf.best_score_))"
   ]
  },
  {
   "cell_type": "markdown",
   "metadata": {
    "colab_type": "text",
    "id": "efKI42UrVMMj"
   },
   "source": [
    "## xgb"
   ]
  },
  {
   "cell_type": "code",
   "execution_count": 61,
   "metadata": {
    "colab": {},
    "colab_type": "code",
    "id": "o77Pm8U6VMMj"
   },
   "outputs": [
    {
     "name": "stdout",
     "output_type": "stream",
     "text": [
      "Best parameters: {'smote__k_neighbors': 4, 'xgb__learning_rate': 0.1}\n",
      "Best Mean cross-validation score: 0.72\n"
     ]
    }
   ],
   "source": [
    "#xgb\n",
    "pipe_roc_xgb = Pipeline([('smote',SMOTE()),('xgb',XGBClassifier(random_state=42,\n",
    "                                                                early_stopping_rounds=2,\n",
    "                                                                n_estimators=100,\n",
    "                                                                objective ='binary:logistic',\n",
    "                                                                max_depth = 4,\n",
    "                                                               ))])\n",
    "param_roc_xgb = {'smote__k_neighbors': [1,2,3,4,5],\n",
    "'xgb__learning_rate' : [0.1,0.5]}\n",
    "ogrid_xgb= GridSearchCV(pipe_roc_xgb,param_roc_xgb, cv=5, n_jobs=2, scoring='roc_auc')\n",
    "ogrid_xgb.fit(X_train, y_train)\n",
    "print(\"Best parameters: {}\".format(ogrid_xgb.best_params_))\n",
    "print(\"Best Mean cross-validation score: {:.2f}\".format(ogrid_xgb.best_score_))\n"
   ]
  },
  {
   "cell_type": "markdown",
   "metadata": {
    "colab_type": "text",
    "id": "iVN2bxyJVMMk"
   },
   "source": [
    "## Easy Ensemble Classifier"
   ]
  },
  {
   "cell_type": "code",
   "execution_count": 62,
   "metadata": {
    "colab": {},
    "colab_type": "code",
    "id": "zSOhxbAyVMMl"
   },
   "outputs": [
    {
     "name": "stdout",
     "output_type": "stream",
     "text": [
      "Best parameters: {'smote__k_neighbors': 1}\n",
      "Best Mean cross-validation score: 0.71\n"
     ]
    }
   ],
   "source": [
    "#easy ensemble classifier\n",
    "from imblearn.ensemble import EasyEnsembleClassifier\n",
    "pipe_roc_ee = Pipeline([('smote',SMOTE()),('ee',EasyEnsembleClassifier())])\n",
    "param_roc_ee = {'smote__k_neighbors': [1,2,3,4,5]}\n",
    "ogrid_ee= GridSearchCV(pipe_roc_ee,param_roc_ee, cv=5, n_jobs=2, scoring='roc_auc')\n",
    "ogrid_ee.fit(X_train, y_train)\n",
    "print(\"Best parameters: {}\".format(ogrid_ee.best_params_))\n",
    "print(\"Best Mean cross-validation score: {:.2f}\".format(ogrid_ee.best_score_))"
   ]
  }
 ],
 "metadata": {
  "colab": {
   "name": "Software_Defect_Prediction_code.ipynb",
   "provenance": [],
   "toc_visible": true
  },
  "kernelspec": {
   "display_name": "Python 3",
   "language": "python",
   "name": "python3"
  },
  "language_info": {
   "codemirror_mode": {
    "name": "ipython",
    "version": 3
   },
   "file_extension": ".py",
   "mimetype": "text/x-python",
   "name": "python",
   "nbconvert_exporter": "python",
   "pygments_lexer": "ipython3",
   "version": "3.7.4"
  },
  "toc": {
   "base_numbering": 1,
   "nav_menu": {},
   "number_sections": true,
   "sideBar": true,
   "skip_h1_title": false,
   "title_cell": "Table of Contents",
   "title_sidebar": "Contents",
   "toc_cell": false,
   "toc_position": {
    "height": "calc(100% - 180px)",
    "left": "10px",
    "top": "150px",
    "width": "256px"
   },
   "toc_section_display": true,
   "toc_window_display": true
  },
  "varInspector": {
   "cols": {
    "lenName": 16,
    "lenType": 16,
    "lenVar": 40
   },
   "kernels_config": {
    "python": {
     "delete_cmd_postfix": "",
     "delete_cmd_prefix": "del ",
     "library": "var_list.py",
     "varRefreshCmd": "print(var_dic_list())"
    },
    "r": {
     "delete_cmd_postfix": ") ",
     "delete_cmd_prefix": "rm(",
     "library": "var_list.r",
     "varRefreshCmd": "cat(var_dic_list()) "
    }
   },
   "types_to_exclude": [
    "module",
    "function",
    "builtin_function_or_method",
    "instance",
    "_Feature"
   ],
   "window_display": true
  }
 },
 "nbformat": 4,
 "nbformat_minor": 1
}
